{
 "cells": [
  {
   "cell_type": "code",
   "execution_count": 1,
   "metadata": {},
   "outputs": [],
   "source": [
    "import numpy as np\n",
    "from matplotlib import animation\n",
    "import matplotlib.pyplot as plt"
   ]
  },
  {
   "cell_type": "markdown",
   "metadata": {},
   "source": [
    "# Tarea 5\n",
    "### Ecuaciones de Derivadas Parciales y la ecuación de Advección\n",
    "\n",
    "\n",
    "#### Métodos Númericos para la Ciencia y la Ingeniería\n",
    "\n",
    "#### Victor Faraggi"
   ]
  },
  {
   "cell_type": "markdown",
   "metadata": {},
   "source": [
    "## Problema 1"
   ]
  },
  {
   "cell_type": "markdown",
   "metadata": {},
   "source": [
    "En este problema se busca resolver la ecuación de Advección utilizando el método de Lax-Wendroff\n",
    "\n",
    "Para esto, se define en primer lugar la ecuación:\n",
    "\n",
    "$$\n",
    "\\frac{\\partial u}{\\partial t} = -c\\frac{\\partial u}{\\partial x}, \\quad \\textrm{c > 0}\n",
    "\\\\\n",
    "\\iff\n",
    "\\\\\n",
    "\\frac{\\partial u}{\\partial t} + c\\frac{\\partial u}{\\partial x} = 0 , \\quad \\textrm{c > 0}\n",
    "$$\n",
    "\n",
    "Asímismo, se recuerda el métodod de Lax-Wendroff:\n",
    "$$\n",
    "u^{n+1}_j=u^{n}_j+\\frac{\\Delta t}{\\Delta x}\\bigg(F_{i−1/2}−F–{i+1/2}\\bigg)\n",
    "$$\n",
    "\n",
    "\n",
    "Lo que para este caso resulta en:\n",
    "$$\n",
    " u^{n+1}_j = u^{n}_j - \\alpha \\bigg[\\frac{1}{2} \\big(u^n_{j+1}+u^n_{j}\\big) - \\frac{1}{2}\\alpha \\big(u^n_{j+1}−u^n_{j}\\big) − \\frac{1}{2} \\big(u^n_{j} +u^n_{j-1}\\big) + \\frac{1}{2}\\alpha \\big(u^n_{j} −u^n_{j-1}\\big)\\bigg]\n",
    "$$\n",
    "\n",
    "Donde $ \\alpha = c\\frac{\\Delta t}{\\Delta x} ≤ 1$.\n",
    "\n",
    "Factorizando esta ecuación se obtiene:\n",
    "\n",
    "$$\n",
    "u^{n+1}_j = u^{n}_j + \\alpha \\bigg[ \\frac{\\alpha}{2}\\big(u^n_{j+1} - 2u^n_{j} + u^n_{j-1}\\big) -  \\frac{1}{2}\\big(u^n_{j+1} + u^n_{j-1}\\big) \\bigg]\n",
    "\\\\\n",
    "\\iff\n",
    "\\\\\n",
    "u^{n+1}_j=\\frac{\\alpha(\\alpha+1)}{2}u^n_{j−1}+(1−\\alpha^2)u^n_j+\\frac{\\alpha(\\alpha+1)}{2}u^n_{j+1}\n",
    "$$"
   ]
  },
  {
   "cell_type": "markdown",
   "metadata": {},
   "source": [
    "Antes de seguir se definen las constantes y la discretización del problema:"
   ]
  },
  {
   "cell_type": "code",
   "execution_count": 2,
   "metadata": {},
   "outputs": [
    {
     "name": "stdout",
     "output_type": "stream",
     "text": [
      "Número de Courant = 0.0941 (debe ser menor o igual a 1)\n"
     ]
    }
   ],
   "source": [
    "t_min, t_max = 0.0, 10.0 \n",
    "x_min, x_max = 0.0, 10.0 \n",
    "\n",
    "Nx = 101 # cantidad de pasos en x\n",
    "c = 0.9 + 0.1*315/999\n",
    "\n",
    "# Discretizacion\n",
    "x = np.linspace(x_min, x_max, Nx) # vector x\n",
    "\n",
    "dx = float((x_max-x_min)/Nx) # dx\n",
    "dt = t_max *(10**(-3)) \n",
    "\n",
    "alpha = c *dt/dx\n",
    "\n",
    "Nt = int((t_max-t_min)/dt) # cantidad de pasos en el tiempo\n",
    "\n",
    "time = np.linspace(t_min, t_max, Nt) # vector t\n",
    "\n",
    "print ('Número de Courant = %6.4f (debe ser menor o igual a 1)' % alpha)"
   ]
  },
  {
   "cell_type": "markdown",
   "metadata": {},
   "source": [
    "Recordamos la condición inicial. Esta se define por:"
   ]
  },
  {
   "cell_type": "markdown",
   "metadata": {},
   "source": [
    "$$\n",
    "u_0(x,0) = \\left\\{\\begin{array}{cc}\n",
    "                    1 & 0 \\leq x \\leq 1 \\\\\n",
    "                    0 & \\mathrm{resto}\n",
    "                  \\end{array}\\right.\n",
    "$$"
   ]
  },
  {
   "cell_type": "markdown",
   "metadata": {},
   "source": [
    "Ahora, se define la función, con su condición inicial:"
   ]
  },
  {
   "cell_type": "code",
   "execution_count": 3,
   "metadata": {},
   "outputs": [],
   "source": [
    "def f(x):\n",
    "    ## Se crea un vector que indica tiene los diferentes pasos de x\n",
    "    f = np.zeros_like(x)\n",
    "    \n",
    "    ## Así, es más fácil insertar la condición incial\n",
    "    f[np.where(x <= 1)] = 1.0\n",
    "    return f"
   ]
  },
  {
   "cell_type": "markdown",
   "metadata": {},
   "source": [
    "Luego, se puede definir el método de resolución:"
   ]
  },
  {
   "cell_type": "code",
   "execution_count": 4,
   "metadata": {},
   "outputs": [],
   "source": [
    "def lax_wendroff(u): \n",
    "    u[1:-1] = alpha/2.0*(1+alpha)*u[:-2] + (1-alpha**2)*u[1:-1] - alpha/2.0*(1-alpha)*u[2:]\n",
    "    return u[1:-1]"
   ]
  },
  {
   "cell_type": "markdown",
   "metadata": {},
   "source": [
    "Se nos pide compara la solución análitica con la calculada. Por esto se crean dos vectores que contienen ambas soluciones:"
   ]
  },
  {
   "cell_type": "code",
   "execution_count": 5,
   "metadata": {},
   "outputs": [],
   "source": [
    "u_solucion = np.zeros((len(time),len(x)))\n",
    "u_analitica = np.zeros((len(time), len(x)))"
   ]
  },
  {
   "cell_type": "markdown",
   "metadata": {},
   "source": [
    "Se inicializa la resolución:"
   ]
  },
  {
   "cell_type": "code",
   "execution_count": 6,
   "metadata": {},
   "outputs": [],
   "source": [
    "u = f(x)\n",
    "un = np.zeros((len(time), len(x)))"
   ]
  },
  {
   "cell_type": "markdown",
   "metadata": {},
   "source": [
    "Primero, se calcula la solución análitica:"
   ]
  },
  {
   "cell_type": "code",
   "execution_count": 7,
   "metadata": {},
   "outputs": [],
   "source": [
    "for i, t in enumerate(time[1:]):\n",
    "    u_analitica[i,:] = f(x-c*t)"
   ]
  },
  {
   "cell_type": "markdown",
   "metadata": {},
   "source": [
    "Luego, la solución numerica:"
   ]
  },
  {
   "cell_type": "code",
   "execution_count": 8,
   "metadata": {},
   "outputs": [],
   "source": [
    "for i, t in enumerate(time[1:]):\n",
    "    u[1:-1] = lax_wendroff(u[:]) \n",
    "    \n",
    "    un[i,:] = u[:]\n",
    "    \n",
    "u_solucion[:,:] = un"
   ]
  },
  {
   "cell_type": "markdown",
   "metadata": {},
   "source": [
    "Ahora que se tiene resuelto de manera analítica y númerica, se calcula el error cuadrático medio entre las soluciones:"
   ]
  },
  {
   "cell_type": "code",
   "execution_count": 9,
   "metadata": {},
   "outputs": [
    {
     "name": "stdout",
     "output_type": "stream",
     "text": [
      "Usando alpha = 0.0940846846846847\n",
      "El RMS cuadrado para T = 4 y T = 7 es, respectivamente, de: 0.0015535339049998595 0.003415850683878966\n"
     ]
    }
   ],
   "source": [
    "def RMS_cuadrado(calculada, analitica, T):\n",
    "    N = len(analitica[T])\n",
    "    rms = 0\n",
    "    j = 0\n",
    "    while j < (N -1):\n",
    "        rms += (calculada[T+1,j] - analitica[T+1,j])**2\n",
    "        j += 1\n",
    "    return (1/N) * rms\n",
    "\n",
    "errores = []\n",
    "errores.append([RMS_cuadrado(u_solucion, u_analitica, 4), RMS_cuadrado(u_solucion, u_analitica, 7)])\n",
    "print(\"Usando alpha =\", alpha)\n",
    "print(\"El RMS cuadrado para T = 4 y T = 7 es, respectivamente, de:\", errores[0][0], errores[0][1])"
   ]
  },
  {
   "cell_type": "markdown",
   "metadata": {},
   "source": [
    "Encapsulamos lo hecho para poder cambiar el valor de $\\alpha$ (u otros si se quisiera) fácilmente:"
   ]
  },
  {
   "cell_type": "code",
   "execution_count": 10,
   "metadata": {},
   "outputs": [],
   "source": [
    "def resolucion(alpha_valor):\n",
    "    t_min, t_max = 0.0, 10.0 \n",
    "    x_min, x_max = 0.0, 10.0 \n",
    "\n",
    "    Nx = 101 # cantidad de pasos en x\n",
    "    c = 0.9 + 0.1*315/999\n",
    "\n",
    "    # Discretizacion\n",
    "    x = np.linspace(x_min, x_max, Nx) # vector x\n",
    "    \n",
    "    dx = float((x_max-x_min)/Nx) # dx\n",
    "    dt = t_max *(10**(-3)) # dt\n",
    "    \n",
    "    alpha_final = alpha_valor\n",
    "    \n",
    "    Nt = int((t_max-t_min)/dt) # cantidad de pasos en el tiempo\n",
    "\n",
    "    time = np.linspace(t_min, t_max, Nt) # vector t\n",
    "\n",
    "    print ('Número de Courant = %6.4f (debe ser menor o igual a 1)' % alpha_final)\n",
    "    \n",
    "    \n",
    "    # Funcion y método\n",
    "    def f(x):\n",
    "        ## Se crea un vector que indica tiene los diferentes pasos de x\n",
    "        f = np.zeros_like(x)\n",
    "    \n",
    "        ## Así, es más fácil insertar la condición incial\n",
    "        f[np.where(x <= 1)] = 1.0\n",
    "        return f\n",
    "    \n",
    "    \n",
    "    def lax_wendroff(u, alpha=alpha_final): \n",
    "        u[1:-1] = alpha/2.0*(1+alpha)*u[:-2] + (1-alpha**2)*u[1:-1] - alpha/2.0*(1-alpha)*u[2:]\n",
    "        return u[1:-1]\n",
    "    \n",
    "    \n",
    "    # Inicializacion de vectores\n",
    "    \n",
    "    u_solucion = np.zeros((len(time),len(x)))\n",
    "    u_analitica = np.zeros((len(time), len(x))\n",
    "                          )\n",
    "    u = f(x)\n",
    "    un = np.zeros((len(time), len(x)))\n",
    "    \n",
    "    # Resolucion\n",
    "    \n",
    "    for i, t in enumerate(time[1:]):\n",
    "        u_analitica[i,:] = f(x-c*t)\n",
    "        \n",
    "    for i, t in enumerate(time[1:]):\n",
    "        u[1:-1] = lax_wendroff(u[:]) \n",
    "    \n",
    "        un[i,:] = u[:]\n",
    "    \n",
    "    u_solucion[:,:] = un\n",
    "\n",
    "    return u_analitica, u_solucion"
   ]
  },
  {
   "cell_type": "markdown",
   "metadata": {},
   "source": [
    "Ahora realizamos el mismo cálculo del RMS cuadrado para distintos valores $\\alpha$"
   ]
  },
  {
   "cell_type": "code",
   "execution_count": 11,
   "metadata": {},
   "outputs": [
    {
     "name": "stdout",
     "output_type": "stream",
     "text": [
      "Usando alpha = 0.6\n",
      "Número de Courant = 0.6000 (debe ser menor o igual a 1)\n",
      "El RMS cuadrado para T = 4 y T = 7 es, respectivamente, de: 0.03378978222002342 0.05066345371331277\n",
      "\n",
      "Usando alpha = 0.9\n",
      "Número de Courant = 0.9000 (debe ser menor o igual a 1)\n",
      "El RMS cuadrado para T = 4 y T = 7 es, respectivamente, de: 0.05133994755573493 0.07772839221724868\n",
      "\n",
      "Usando alpha = 1\n",
      "Número de Courant = 1.0000 (debe ser menor o igual a 1)\n",
      "El RMS cuadrado para T = 4 y T = 7 es, respectivamente, de: 0.0594059405940594 0.0891089108910891\n",
      "\n"
     ]
    }
   ],
   "source": [
    "alphas = [0.6, 0.9, 1]\n",
    "\n",
    "for k, i in enumerate(alphas):\n",
    "    \n",
    "    print(\"Usando alpha =\", i)\n",
    "    u_teo, u_sol = resolucion(i)\n",
    "    errores.append([RMS_cuadrado(u_sol, u_teo, 4), RMS_cuadrado(u_sol, u_teo, 7)])\n",
    "    print(\"El RMS cuadrado para T = 4 y T = 7 es, respectivamente, de:\"\n",
    "          , errores[k + 1][0],errores[k + 1][1])\n",
    "    print()"
   ]
  },
  {
   "cell_type": "markdown",
   "metadata": {},
   "source": [
    "Así, gráficando estos valores:"
   ]
  },
  {
   "cell_type": "code",
   "execution_count": 12,
   "metadata": {
    "scrolled": true
   },
   "outputs": [
    {
     "name": "stdout",
     "output_type": "stream",
     "text": [
      "[0.0015535339049998595, 0.03378978222002342, 0.05133994755573493, 0.0594059405940594]\n"
     ]
    }
   ],
   "source": [
    "alphas.insert(0,alpha)\n",
    "\n",
    "errores_T4 = []\n",
    "for error_alpha in errores:\n",
    "    errores_T4.append(error_alpha[0])\n",
    "    \n",
    "print(errores_T4)\n",
    "\n",
    "errores_T7 = []\n",
    "for error_alpha in errores:\n",
    "    errores_T7.append(error_alpha[1]) "
   ]
  },
  {
   "cell_type": "code",
   "execution_count": 13,
   "metadata": {
    "scrolled": false
   },
   "outputs": [
    {
     "data": {
      "text/plain": [
       "Text(0.5, 1.0, 'RMS cuadrado para distintos valores de alpha para T = 4 y T = 7')"
      ]
     },
     "execution_count": 13,
     "metadata": {},
     "output_type": "execute_result"
    },
    {
     "data": {
      "image/png": "[encoded data removed]",
      "text/plain": [
       "<Figure size 432x288 with 1 Axes>"
      ]
     },
     "metadata": {
      "needs_background": "light"
     },
     "output_type": "display_data"
    }
   ],
   "source": [
    "fig, ax = plt.subplots()\n",
    "\n",
    "# errors for T =4, T =7\n",
    "ax.plot(alphas, errores_T4, 'b*--',label='$RMS^2$' +  'para T= 7')\n",
    "ax.plot(alphas, errores_T7, 'r*--', label='$RMS^2$' + ' para T= 4')\n",
    "ax.set_xlabel(r'$\\alpha$')\n",
    "plt.legend()\n",
    "plt.title('RMS cuadrado para distintos valores de' + \" alpha \" +'para T = 4 y T = 7')"
   ]
  }
 ],
 "metadata": {
  "kernelspec": {
   "display_name": "Python 3",
   "language": "python",
   "name": "python3"
  },
  "language_info": {
   "codemirror_mode": {
    "name": "ipython",
    "version": 3
   },
   "file_extension": ".py",
   "mimetype": "text/x-python",
   "name": "python",
   "nbconvert_exporter": "python",
   "pygments_lexer": "ipython3",
   "version": "3.7.3"
  }
 },
 "nbformat": 4,
 "nbformat_minor": 2
}
