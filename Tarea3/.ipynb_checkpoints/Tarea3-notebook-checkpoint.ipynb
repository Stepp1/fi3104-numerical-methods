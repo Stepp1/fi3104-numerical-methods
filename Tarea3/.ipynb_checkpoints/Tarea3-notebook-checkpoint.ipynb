{
 "cells": [
  {
   "cell_type": "markdown",
   "metadata": {},
   "source": [
    "Imports and set a seed:"
   ]
  },
  {
   "cell_type": "code",
   "execution_count": 1,
   "metadata": {},
   "outputs": [],
   "source": [
    "import timeit\n",
    "import numpy as np\n",
    "import matplotlib.pyplot as plt\n",
    "from astropy.table import Table, Row\n",
    "from scipy.optimize import least_squares\n",
    "from scipy.integrate import ode\n",
    "np.random.seed(4664)"
   ]
  },
  {
   "cell_type": "markdown",
   "metadata": {},
   "source": [
    "### Métodos Númericos para la Ciencia y la Ingenieria \n",
    "\n",
    "# <u>Tarea 3</u>\n",
    "## Densidades de probabilidad, Método Monte Carlo, Métodos de Shooting , Resolución de Ecuaciones Diferenciales. \n",
    "\n",
    "\n",
    "### Victor Faraggi"
   ]
  },
  {
   "cell_type": "markdown",
   "metadata": {},
   "source": [
    "### P1: Densidades de probabilidad, Método Monte Carlo"
   ]
  },
  {
   "cell_type": "code",
   "execution_count": 2,
   "metadata": {},
   "outputs": [],
   "source": [
    "## wrapper function to use timeit module on a function with arguments\n",
    "\n",
    "def wrapper(func, *args, **kwargs):\n",
    "    def wrapped():\n",
    "        return func(*args, **kwargs)\n",
    "    return wrapped"
   ]
  },
  {
   "cell_type": "code",
   "execution_count": 3,
   "metadata": {},
   "outputs": [],
   "source": [
    "## Classes used to create a table\n",
    "\n",
    "class ParamsRow(Row):\n",
    "    \"\"\"\n",
    "    Row class that allows access to an arbitrary dict of parameters\n",
    "    stored as a dict object in the ``params`` column.\n",
    "    \"\"\"\n",
    "    def __getitem__(self, item):\n",
    "        if item not in self.colnames:\n",
    "            return super().__getitem__('params')[item]\n",
    "        else:\n",
    "            return super().__getitem__(item)\n",
    "\n",
    "    def keys(self):\n",
    "        out = [name for name in self.colnames if name != 'params']\n",
    "        params = [key.lower() for key in sorted(self['params'])]\n",
    "        return out + params\n",
    "\n",
    "    def values(self):\n",
    "        return [self[key] for key in self.keys()]\n",
    "\n",
    "class ParamsTable(Table):\n",
    "    Row = ParamsRow"
   ]
  },
  {
   "cell_type": "code",
   "execution_count": 4,
   "metadata": {},
   "outputs": [],
   "source": [
    "def method1(n):\n",
    "    # se buscan generar n puntos\n",
    "    while n > 0:\n",
    "        # Usando densidades de probabilidad\n",
    "        y1 = np.random.uniform(0,1)\n",
    "        y2 = np.random.uniform(0,1)\n",
    "        r = 0\n",
    "        phi =  np.random.uniform(0, math.pi)\n",
    "        return None"
   ]
  },
  {
   "cell_type": "code",
   "execution_count": 5,
   "metadata": {},
   "outputs": [],
   "source": [
    "def methodºPlot():\n",
    "    # se buscan los primeros 200 puntos dentro del circulo\n",
    "    pointsX = []\n",
    "    pointsY = []\n",
    "    while len(pointsX) < 200:\n",
    "        a = 0\n",
    "    plt.plot(pointsX, pointsY, 'x')\n",
    "    plt.title(\"Primeros 200 puntos al interior del círculo\")\n",
    "    plt.grid(True)"
   ]
  },
  {
   "cell_type": "code",
   "execution_count": 6,
   "metadata": {},
   "outputs": [],
   "source": [
    "def method2(n):\n",
    "    # se buscan generar n puntos\n",
    "    while n > 0:\n",
    "        # Monte Carlo\n",
    "        while True:\n",
    "            # se generan puntos en el cuadrado -1:1 centrado en 0\n",
    "            x = np.random.uniform(-1,1)\n",
    "            y = np.random.uniform(-1,1)\n",
    "            \n",
    "            # el punto esta en el circulo\n",
    "            if(x**2 + y**2 <= 1):\n",
    "                break\n",
    "        \n",
    "        n = n - 1\n",
    "                \n",
    "    # se generaron los n puntos"
   ]
  },
  {
   "cell_type": "code",
   "execution_count": 7,
   "metadata": {},
   "outputs": [
    {
     "data": {
      "image/png": "[encoded data removed]",
      "text/plain": [
       "<Figure size 432x288 with 1 Axes>"
      ]
     },
     "metadata": {
      "needs_background": "light"
     },
     "output_type": "display_data"
    }
   ],
   "source": [
    "def method2Plot():\n",
    "    # se buscan los primeros 200 puntos dentro del circulo\n",
    "    pointsX = []\n",
    "    pointsY = []\n",
    "    while len(pointsX) < 200:\n",
    "        while True:\n",
    "            # se generan puntos en el cuadrado -1:1 centrado en 0\n",
    "            x = np.random.uniform(-1,1)\n",
    "            y = np.random.uniform(-1,1)\n",
    "            \n",
    "            # el punto esta en el circulo\n",
    "            if(x**2 + y**2 <= 1):\n",
    "                pointsX.append(x)\n",
    "                pointsY.append(y)\n",
    "                break\n",
    "    circle = plt.Circle((0, 0), 1, color='r', fill=False)\n",
    "    ax = plt.gca()\n",
    "    ax.cla()\n",
    "    ax.plot(pointsX, pointsY, 'x')\n",
    "    ax.add_artist(circle)\n",
    "    plt.title(\"Primeros 200 puntos al interior del círculo\")\n",
    "    ax.grid(True)\n",
    "    \n",
    "method2Plot()"
   ]
  },
  {
   "cell_type": "code",
   "execution_count": 8,
   "metadata": {},
   "outputs": [
    {
     "name": "stdout",
     "output_type": "stream",
     "text": [
      "Ejecutamos el metodo 2\n",
      "Con 10^6 puntos\n"
     ]
    },
    {
     "ename": "KeyboardInterrupt",
     "evalue": "",
     "output_type": "error",
     "traceback": [
      "\u001b[0;31m---------------------------------------------------------------------------\u001b[0m",
      "\u001b[0;31mKeyboardInterrupt\u001b[0m                         Traceback (most recent call last)",
      "\u001b[0;32m<ipython-input-8-2a4828642984>\u001b[0m in \u001b[0;36m<module>\u001b[0;34m\u001b[0m\n\u001b[1;32m     37\u001b[0m     \u001b[0;32mreturn\u001b[0m \u001b[0mperf\u001b[0m\u001b[0;34m\u001b[0m\u001b[0;34m\u001b[0m\u001b[0m\n\u001b[1;32m     38\u001b[0m \u001b[0;31m# We test the methods\u001b[0m\u001b[0;34m\u001b[0m\u001b[0;34m\u001b[0m\u001b[0;34m\u001b[0m\u001b[0m\n\u001b[0;32m---> 39\u001b[0;31m \u001b[0mperf\u001b[0m \u001b[0;34m=\u001b[0m \u001b[0mperfTest\u001b[0m\u001b[0;34m(\u001b[0m\u001b[0;34m)\u001b[0m\u001b[0;34m\u001b[0m\u001b[0;34m\u001b[0m\u001b[0m\n\u001b[0m",
      "\u001b[0;32m<ipython-input-8-2a4828642984>\u001b[0m in \u001b[0;36mperfTest\u001b[0;34m()\u001b[0m\n\u001b[1;32m     19\u001b[0m     \u001b[0mprint\u001b[0m\u001b[0;34m(\u001b[0m\u001b[0;34m\"Con 10^6 puntos\"\u001b[0m\u001b[0;34m)\u001b[0m\u001b[0;34m\u001b[0m\u001b[0;34m\u001b[0m\u001b[0m\n\u001b[1;32m     20\u001b[0m     \u001b[0mwrapped\u001b[0m \u001b[0;34m=\u001b[0m \u001b[0mwrapper\u001b[0m\u001b[0;34m(\u001b[0m\u001b[0mmethod2\u001b[0m\u001b[0;34m,\u001b[0m \u001b[0;36m10\u001b[0m\u001b[0;34m**\u001b[0m\u001b[0;36m6\u001b[0m\u001b[0;34m)\u001b[0m\u001b[0;34m\u001b[0m\u001b[0;34m\u001b[0m\u001b[0m\n\u001b[0;32m---> 21\u001b[0;31m     \u001b[0mtest1method2\u001b[0m \u001b[0;34m=\u001b[0m \u001b[0mtimeit\u001b[0m\u001b[0;34m.\u001b[0m\u001b[0mtimeit\u001b[0m\u001b[0;34m(\u001b[0m\u001b[0mwrapped\u001b[0m\u001b[0;34m,\u001b[0m \u001b[0mnumber\u001b[0m\u001b[0;34m=\u001b[0m\u001b[0;36m3\u001b[0m\u001b[0;34m)\u001b[0m\u001b[0;34m/\u001b[0m\u001b[0;36m3\u001b[0m\u001b[0;34m\u001b[0m\u001b[0;34m\u001b[0m\u001b[0m\n\u001b[0m\u001b[1;32m     22\u001b[0m     \u001b[0mprint\u001b[0m\u001b[0;34m(\u001b[0m\u001b[0;34m\"El segundo metodo se demora: \"\u001b[0m \u001b[0;34m+\u001b[0m \u001b[0mstr\u001b[0m\u001b[0;34m(\u001b[0m\u001b[0mtest1method2\u001b[0m\u001b[0;34m)\u001b[0m \u001b[0;34m+\u001b[0m \u001b[0;34m\" segundos con 10^6 puntos\"\u001b[0m\u001b[0;34m)\u001b[0m\u001b[0;34m\u001b[0m\u001b[0;34m\u001b[0m\u001b[0m\n\u001b[1;32m     23\u001b[0m \u001b[0;34m\u001b[0m\u001b[0m\n",
      "\u001b[0;32m/usr/local/Cellar/python/3.7.3/Frameworks/Python.framework/Versions/3.7/lib/python3.7/timeit.py\u001b[0m in \u001b[0;36mtimeit\u001b[0;34m(stmt, setup, timer, number, globals)\u001b[0m\n\u001b[1;32m    230\u001b[0m            number=default_number, globals=None):\n\u001b[1;32m    231\u001b[0m     \u001b[0;34m\"\"\"Convenience function to create Timer object and call timeit method.\"\"\"\u001b[0m\u001b[0;34m\u001b[0m\u001b[0;34m\u001b[0m\u001b[0m\n\u001b[0;32m--> 232\u001b[0;31m     \u001b[0;32mreturn\u001b[0m \u001b[0mTimer\u001b[0m\u001b[0;34m(\u001b[0m\u001b[0mstmt\u001b[0m\u001b[0;34m,\u001b[0m \u001b[0msetup\u001b[0m\u001b[0;34m,\u001b[0m \u001b[0mtimer\u001b[0m\u001b[0;34m,\u001b[0m \u001b[0mglobals\u001b[0m\u001b[0;34m)\u001b[0m\u001b[0;34m.\u001b[0m\u001b[0mtimeit\u001b[0m\u001b[0;34m(\u001b[0m\u001b[0mnumber\u001b[0m\u001b[0;34m)\u001b[0m\u001b[0;34m\u001b[0m\u001b[0;34m\u001b[0m\u001b[0m\n\u001b[0m\u001b[1;32m    233\u001b[0m \u001b[0;34m\u001b[0m\u001b[0m\n\u001b[1;32m    234\u001b[0m def repeat(stmt=\"pass\", setup=\"pass\", timer=default_timer,\n",
      "\u001b[0;32m/usr/local/Cellar/python/3.7.3/Frameworks/Python.framework/Versions/3.7/lib/python3.7/timeit.py\u001b[0m in \u001b[0;36mtimeit\u001b[0;34m(self, number)\u001b[0m\n\u001b[1;32m    174\u001b[0m         \u001b[0mgc\u001b[0m\u001b[0;34m.\u001b[0m\u001b[0mdisable\u001b[0m\u001b[0;34m(\u001b[0m\u001b[0;34m)\u001b[0m\u001b[0;34m\u001b[0m\u001b[0;34m\u001b[0m\u001b[0m\n\u001b[1;32m    175\u001b[0m         \u001b[0;32mtry\u001b[0m\u001b[0;34m:\u001b[0m\u001b[0;34m\u001b[0m\u001b[0;34m\u001b[0m\u001b[0m\n\u001b[0;32m--> 176\u001b[0;31m             \u001b[0mtiming\u001b[0m \u001b[0;34m=\u001b[0m \u001b[0mself\u001b[0m\u001b[0;34m.\u001b[0m\u001b[0minner\u001b[0m\u001b[0;34m(\u001b[0m\u001b[0mit\u001b[0m\u001b[0;34m,\u001b[0m \u001b[0mself\u001b[0m\u001b[0;34m.\u001b[0m\u001b[0mtimer\u001b[0m\u001b[0;34m)\u001b[0m\u001b[0;34m\u001b[0m\u001b[0;34m\u001b[0m\u001b[0m\n\u001b[0m\u001b[1;32m    177\u001b[0m         \u001b[0;32mfinally\u001b[0m\u001b[0;34m:\u001b[0m\u001b[0;34m\u001b[0m\u001b[0;34m\u001b[0m\u001b[0m\n\u001b[1;32m    178\u001b[0m             \u001b[0;32mif\u001b[0m \u001b[0mgcold\u001b[0m\u001b[0;34m:\u001b[0m\u001b[0;34m\u001b[0m\u001b[0;34m\u001b[0m\u001b[0m\n",
      "\u001b[0;32m/usr/local/Cellar/python/3.7.3/Frameworks/Python.framework/Versions/3.7/lib/python3.7/timeit.py\u001b[0m in \u001b[0;36minner\u001b[0;34m(_it, _timer, _stmt)\u001b[0m\n",
      "\u001b[0;32m<ipython-input-2-b6544b7cbfd6>\u001b[0m in \u001b[0;36mwrapped\u001b[0;34m()\u001b[0m\n\u001b[1;32m      3\u001b[0m \u001b[0;32mdef\u001b[0m \u001b[0mwrapper\u001b[0m\u001b[0;34m(\u001b[0m\u001b[0mfunc\u001b[0m\u001b[0;34m,\u001b[0m \u001b[0;34m*\u001b[0m\u001b[0margs\u001b[0m\u001b[0;34m,\u001b[0m \u001b[0;34m**\u001b[0m\u001b[0mkwargs\u001b[0m\u001b[0;34m)\u001b[0m\u001b[0;34m:\u001b[0m\u001b[0;34m\u001b[0m\u001b[0;34m\u001b[0m\u001b[0m\n\u001b[1;32m      4\u001b[0m     \u001b[0;32mdef\u001b[0m \u001b[0mwrapped\u001b[0m\u001b[0;34m(\u001b[0m\u001b[0;34m)\u001b[0m\u001b[0;34m:\u001b[0m\u001b[0;34m\u001b[0m\u001b[0;34m\u001b[0m\u001b[0m\n\u001b[0;32m----> 5\u001b[0;31m         \u001b[0;32mreturn\u001b[0m \u001b[0mfunc\u001b[0m\u001b[0;34m(\u001b[0m\u001b[0;34m*\u001b[0m\u001b[0margs\u001b[0m\u001b[0;34m,\u001b[0m \u001b[0;34m**\u001b[0m\u001b[0mkwargs\u001b[0m\u001b[0;34m)\u001b[0m\u001b[0;34m\u001b[0m\u001b[0;34m\u001b[0m\u001b[0m\n\u001b[0m\u001b[1;32m      6\u001b[0m     \u001b[0;32mreturn\u001b[0m \u001b[0mwrapped\u001b[0m\u001b[0;34m\u001b[0m\u001b[0;34m\u001b[0m\u001b[0m\n",
      "\u001b[0;32m<ipython-input-6-c55b86b8586d>\u001b[0m in \u001b[0;36mmethod2\u001b[0;34m(n)\u001b[0m\n\u001b[1;32m      5\u001b[0m         \u001b[0;32mwhile\u001b[0m \u001b[0;32mTrue\u001b[0m\u001b[0;34m:\u001b[0m\u001b[0;34m\u001b[0m\u001b[0;34m\u001b[0m\u001b[0m\n\u001b[1;32m      6\u001b[0m             \u001b[0;31m# se generan puntos en el cuadrado -1:1 centrado en 0\u001b[0m\u001b[0;34m\u001b[0m\u001b[0;34m\u001b[0m\u001b[0;34m\u001b[0m\u001b[0m\n\u001b[0;32m----> 7\u001b[0;31m             \u001b[0mx\u001b[0m \u001b[0;34m=\u001b[0m \u001b[0mnp\u001b[0m\u001b[0;34m.\u001b[0m\u001b[0mrandom\u001b[0m\u001b[0;34m.\u001b[0m\u001b[0muniform\u001b[0m\u001b[0;34m(\u001b[0m\u001b[0;34m-\u001b[0m\u001b[0;36m1\u001b[0m\u001b[0;34m,\u001b[0m\u001b[0;36m1\u001b[0m\u001b[0;34m)\u001b[0m\u001b[0;34m\u001b[0m\u001b[0;34m\u001b[0m\u001b[0m\n\u001b[0m\u001b[1;32m      8\u001b[0m             \u001b[0my\u001b[0m \u001b[0;34m=\u001b[0m \u001b[0mnp\u001b[0m\u001b[0;34m.\u001b[0m\u001b[0mrandom\u001b[0m\u001b[0;34m.\u001b[0m\u001b[0muniform\u001b[0m\u001b[0;34m(\u001b[0m\u001b[0;34m-\u001b[0m\u001b[0;36m1\u001b[0m\u001b[0;34m,\u001b[0m\u001b[0;36m1\u001b[0m\u001b[0;34m)\u001b[0m\u001b[0;34m\u001b[0m\u001b[0;34m\u001b[0m\u001b[0m\n\u001b[1;32m      9\u001b[0m \u001b[0;34m\u001b[0m\u001b[0m\n",
      "\u001b[0;31mKeyboardInterrupt\u001b[0m: "
     ]
    }
   ],
   "source": [
    "def perfTest():\n",
    "    '''\n",
    "    print(\"Ejecutamos el metodo 1\")\n",
    "    print(\"Con 10^6 puntos\")\n",
    "    test1method1 = timeit.timeit(method1(10**6), number=3)\n",
    "    print(\"El segundo metodo se demora: \" + str(test1method2) + \" segundos con 10^6 puntos\")\n",
    "    print(\"Con 10^7 puntos\")\n",
    "    test2method1 = timeit.timeit(method1(10*7), number=3)\n",
    "    print(\"El segundo metodo se demora: \" + str(test1method2) + \" segundos con 10^7 puntos\")          \n",
    "    print(\"Con 10^8 puntos\")\n",
    "    test3method1 = timeit.timeit(method1(10**8), number=3)\n",
    "    print(\"El segundo metodo se demora: \" + str(test1method2) + \" segundos con 10^8 puntos\")          \n",
    "    '''\n",
    "    perfMethod1= [0, 0, 0]\n",
    "    \n",
    "    \n",
    "    print(\"Ejecutamos el metodo 2\")\n",
    "    \n",
    "    print(\"Con 10^6 puntos\")\n",
    "    wrapped = wrapper(method2, 10**6)\n",
    "    test1method2 = timeit.timeit(wrapped, number=3)/3\n",
    "    print(\"El segundo metodo se demora: \" + str(test1method2) + \" segundos con 10^6 puntos\")\n",
    "    \n",
    "    print(\"Con 10^7 puntos\")\n",
    "    wrapped = wrapper(method2, 10**7)\n",
    "    test2method2 = timeit.timeit(wrapped, number=3)/3\n",
    "    print(\"El segundo metodo se demora: \" + str(test2method2) + \" segundos con 10^7 puntos\")          \n",
    "    \n",
    "    print(\"Con 10^8 puntos\")\n",
    "    wrapped = wrapper(method2, 10**8)\n",
    "    test3method2 = timeit.timeit(wrapped, number=3)/3\n",
    "    print(\"El segundo metodo se demora: \" + str(test3method2) + \" segundos con 10^8 puntos\")          \n",
    "    \n",
    "    perfMethod2= [test1method2, test2method2, test3method2]\n",
    "    \n",
    "    perf = [perfMethod1, perfMethod2]\n",
    "    return perf\n",
    "# We test the methods    \n",
    "perf = perfTest()"
   ]
  },
  {
   "cell_type": "code",
   "execution_count": 9,
   "metadata": {},
   "outputs": [
    {
     "ename": "NameError",
     "evalue": "name 'perf' is not defined",
     "output_type": "error",
     "traceback": [
      "\u001b[0;31m---------------------------------------------------------------------------\u001b[0m",
      "\u001b[0;31mNameError\u001b[0m                                 Traceback (most recent call last)",
      "\u001b[0;32m<ipython-input-9-11316827198b>\u001b[0m in \u001b[0;36m<module>\u001b[0;34m\u001b[0m\n\u001b[0;32m----> 1\u001b[0;31m \u001b[0;32mdef\u001b[0m \u001b[0mplotResults\u001b[0m\u001b[0;34m(\u001b[0m\u001b[0mperf\u001b[0m\u001b[0;34m=\u001b[0m \u001b[0mperf\u001b[0m\u001b[0;34m)\u001b[0m\u001b[0;34m:\u001b[0m\u001b[0;34m\u001b[0m\u001b[0;34m\u001b[0m\u001b[0m\n\u001b[0m\u001b[1;32m      2\u001b[0m     \u001b[0mt\u001b[0m \u001b[0;34m=\u001b[0m \u001b[0mParamsTable\u001b[0m\u001b[0;34m(\u001b[0m\u001b[0mnames\u001b[0m\u001b[0;34m=\u001b[0m\u001b[0;34m[\u001b[0m\u001b[0;34m'cantidad de puntos'\u001b[0m\u001b[0;34m,\u001b[0m \u001b[0;34m'tiempo método1'\u001b[0m\u001b[0;34m,\u001b[0m \u001b[0;34m'tiempo método2'\u001b[0m\u001b[0;34m]\u001b[0m\u001b[0;34m,\u001b[0m \u001b[0mdtype\u001b[0m\u001b[0;34m=\u001b[0m\u001b[0;34m[\u001b[0m\u001b[0;34m'i'\u001b[0m\u001b[0;34m,\u001b[0m \u001b[0;34m'f'\u001b[0m\u001b[0;34m,\u001b[0m \u001b[0;34m'f'\u001b[0m\u001b[0;34m]\u001b[0m\u001b[0;34m)\u001b[0m\u001b[0;34m\u001b[0m\u001b[0;34m\u001b[0m\u001b[0m\n\u001b[1;32m      3\u001b[0m     \u001b[0mt\u001b[0m\u001b[0;34m.\u001b[0m\u001b[0madd_row\u001b[0m\u001b[0;34m(\u001b[0m\u001b[0;34m(\u001b[0m\u001b[0;36m10\u001b[0m\u001b[0;34m**\u001b[0m\u001b[0;36m6\u001b[0m\u001b[0;34m,\u001b[0m \u001b[0mperf\u001b[0m\u001b[0;34m[\u001b[0m\u001b[0;36m0\u001b[0m\u001b[0;34m]\u001b[0m\u001b[0;34m[\u001b[0m\u001b[0;36m0\u001b[0m\u001b[0;34m]\u001b[0m\u001b[0;34m,\u001b[0m \u001b[0mperf\u001b[0m\u001b[0;34m[\u001b[0m\u001b[0;36m1\u001b[0m\u001b[0;34m]\u001b[0m\u001b[0;34m[\u001b[0m\u001b[0;36m0\u001b[0m\u001b[0;34m]\u001b[0m\u001b[0;34m)\u001b[0m\u001b[0;34m)\u001b[0m\u001b[0;34m\u001b[0m\u001b[0;34m\u001b[0m\u001b[0m\n\u001b[1;32m      4\u001b[0m     \u001b[0mt\u001b[0m\u001b[0;34m.\u001b[0m\u001b[0madd_row\u001b[0m\u001b[0;34m(\u001b[0m\u001b[0;34m(\u001b[0m\u001b[0;36m10\u001b[0m\u001b[0;34m**\u001b[0m\u001b[0;36m7\u001b[0m\u001b[0;34m,\u001b[0m \u001b[0mperf\u001b[0m\u001b[0;34m[\u001b[0m\u001b[0;36m0\u001b[0m\u001b[0;34m]\u001b[0m\u001b[0;34m[\u001b[0m\u001b[0;36m1\u001b[0m\u001b[0;34m]\u001b[0m\u001b[0;34m,\u001b[0m \u001b[0mperf\u001b[0m\u001b[0;34m[\u001b[0m\u001b[0;36m1\u001b[0m\u001b[0;34m]\u001b[0m\u001b[0;34m[\u001b[0m\u001b[0;36m1\u001b[0m\u001b[0;34m]\u001b[0m\u001b[0;34m)\u001b[0m\u001b[0;34m)\u001b[0m\u001b[0;34m\u001b[0m\u001b[0;34m\u001b[0m\u001b[0m\n\u001b[1;32m      5\u001b[0m     \u001b[0mt\u001b[0m\u001b[0;34m.\u001b[0m\u001b[0madd_row\u001b[0m\u001b[0;34m(\u001b[0m\u001b[0;34m(\u001b[0m\u001b[0;36m10\u001b[0m\u001b[0;34m**\u001b[0m\u001b[0;36m8\u001b[0m\u001b[0;34m,\u001b[0m \u001b[0mperf\u001b[0m\u001b[0;34m[\u001b[0m\u001b[0;36m0\u001b[0m\u001b[0;34m]\u001b[0m\u001b[0;34m[\u001b[0m\u001b[0;36m2\u001b[0m\u001b[0;34m]\u001b[0m\u001b[0;34m,\u001b[0m \u001b[0mperf\u001b[0m\u001b[0;34m[\u001b[0m\u001b[0;36m1\u001b[0m\u001b[0;34m]\u001b[0m\u001b[0;34m[\u001b[0m\u001b[0;36m2\u001b[0m\u001b[0;34m]\u001b[0m\u001b[0;34m)\u001b[0m\u001b[0;34m)\u001b[0m\u001b[0;34m\u001b[0m\u001b[0;34m\u001b[0m\u001b[0m\n",
      "\u001b[0;31mNameError\u001b[0m: name 'perf' is not defined"
     ]
    }
   ],
   "source": [
    "def plotResults(perf= perf):\n",
    "    t = ParamsTable(names=['cantidad de puntos', 'tiempo método1', 'tiempo método2'], dtype=['i', 'f', 'f'])\n",
    "    t.add_row((10**6, perf[0][0], perf[1][0]))\n",
    "    t.add_row((10**7, perf[0][1], perf[1][1]))\n",
    "    t.add_row((10**8, perf[0][2], perf[1][2]))\n",
    "    print(t)\n",
    "plotResults()"
   ]
  },
  {
   "cell_type": "markdown",
   "metadata": {},
   "source": [
    "Se puede apreciar que el uso de densidades de probabilidad es más eficiente para una cantidad **...** y el uso del método Monte Carlo es más eficiente para cantidades **...**."
   ]
  },
  {
   "cell_type": "markdown",
   "metadata": {},
   "source": [
    "Hay que recordar que usamos funciones para los dos métodos. Esto produce un tiempo de ejecución mayor a que si las soluciones estuvieran fuera de funciones. Esta última parte busca **comparar** la eficacia ambos métodos. Por esto se les compara en igualdad de condiciones: al interior funciones que son lo más simple posible.\n",
    "\n",
    "Si lo que se busca es crear el código más eficiente para alguna solución: se recomienda que sea escrito fuera de funciones. Si el tiempo resultante sigue siendo mayor al buscado, se recomienda el uso de otros lenguaejes de programación como C o C++."
   ]
  },
  {
   "cell_type": "markdown",
   "metadata": {},
   "source": [
    "### P2: Métodos de Shooting\n",
    "\n",
    "Se busca resolver la siguiente ecuación:\n",
    "$$\n",
    "y′′+2y′+3y^2 = 0 \\space con \\space y(0) = 0 \\space y \\space y(2) = −1.\n",
    "$$"
   ]
  },
  {
   "cell_type": "markdown",
   "metadata": {},
   "source": [
    "Simplificamos la ecuación de segundo orden a una de primer orden:"
   ]
  },
  {
   "cell_type": "markdown",
   "metadata": {},
   "source": [
    "$$\n",
    "y = x_0\n",
    "\\land\n",
    "y' = x_1\n",
    "\\space\n",
    "\\implies\n",
    "\\space\n",
    "x_1' + 2x_1 + 3x_0^2 = 0\n",
    "$$\n"
   ]
  },
  {
   "cell_type": "markdown",
   "metadata": {},
   "source": [
    "Así, resulta el siguiente sistema de ecuaciones:"
   ]
  },
  {
   "cell_type": "markdown",
   "metadata": {},
   "source": [
    "$$\n",
    "x_0' = x_1\n",
    "$$\n",
    "\n",
    "$$\n",
    "x_1' = -2x_1 - 3x_0^2\n",
    "$$"
   ]
  },
  {
   "cell_type": "markdown",
   "metadata": {},
   "source": [
    "Así, las condiciones iniciales son las siguientes:"
   ]
  },
  {
   "cell_type": "markdown",
   "metadata": {},
   "source": [
    "$$\n",
    "y(0) = x_0(0) = 0\n",
    "\\\\\n",
    "\\land\n",
    "\\\\\n",
    "y(2) = x_0(2) = -1\n",
    "$$"
   ]
  },
  {
   "cell_type": "code",
   "execution_count": 35,
   "metadata": {},
   "outputs": [],
   "source": [
    "# Definimos el sistema de ecuaciones\n",
    "def f(t,x):\n",
    "    f = np.zeros(2)\n",
    "    f[0] = x[1]\n",
    "    f[1] = - 2 * x[1] - 3 * x[0] ** 2\n",
    "    return f\n",
    "\n",
    "# Definimos los boundaries\n",
    "x_Init = 0.0 # coincide con y(0) = 0\n",
    "x_End = 2.0\n",
    "\n",
    "# Definimos el paso de integracion\n",
    "h = 0.1"
   ]
  },
  {
   "cell_type": "markdown",
   "metadata": {},
   "source": [
    "Queremos encontrar el valor de $y'(0)$ para obtener un problema de condiciones iniciales. \n",
    "\n",
    "Para esto, se debe resolver un problema de raíces:"
   ]
  },
  {
   "cell_type": "markdown",
   "metadata": {},
   "source": [
    "$$\n",
    "y'(0) = \\theta(u)\n",
    "\\\\\n",
    "\\implies\n",
    "\\\\\n",
    "r(u) = \\theta(u) - y(2) = 0\n",
    "$$"
   ]
  },
  {
   "cell_type": "markdown",
   "metadata": {},
   "source": [
    "Remplazando por el cambio de variable:"
   ]
  },
  {
   "cell_type": "markdown",
   "metadata": {},
   "source": [
    "$$\n",
    "r(u) = x_1(u) - x_0(2) = 0\n",
    "$$"
   ]
  },
  {
   "cell_type": "markdown",
   "metadata": {},
   "source": [
    "Para resolver usamos el método de Ridder:"
   ]
  },
  {
   "cell_type": "code",
   "execution_count": 40,
   "metadata": {},
   "outputs": [
    {
     "data": {
      "text/plain": [
       "\" root = ridder(f,a,b,tol=1.0e-9).\\n    Finds a root of f(x) = 0 with Ridder’s method.\\n    The root must be bracketed in (a,b).\\n\\ndef ridder(f, a, b, tol=1.0e-9):\\n    fa = f(a)\\n    if fa == 0.0: \\n        return a\\n    \\n    fb = f(b)\\n    if fb == 0.0: \\n        return b\\n\\n        \\n    for i in range(30):\\n      # Compute the improved root x from Ridder’s formula\\n        c = 0.5*(a + b)\\n        fc = f(c)\\n        s = math.sqrt(fc**2 - fa*fb)\\n        if s == 0.0: \\n            return None\\n        \\n        dx = (c - a)*fc/s\\n        \\n        if (fa - fb) < 0.0: \\n            dx = -dx\\n            \\n        x = c + dx\\n        fx = f(x)\\n        \\n      # Test for convergence\\n        if i > 0:\\n            if abs(x - xOld) < tol*max(abs(x),1.0): \\n                return x\\n            \\n        xOld = x\\n        \\n      # Re-bracket the root as tightly as possible\\n        if np.sign(fc) == np.sign(fx):\\n            if np.sign(fa)!= np.sign(fx): \\n                b = x\\n                fb = fx\\n                \\n            else: \\n                a = x\\n                fa = fx\\n                \\n        else:\\n            a = c \\n            b = x \\n            fa = fc \\n            fb = fx\\n    return None\\n    print('Too many iterations')\\n\""
      ]
     },
     "execution_count": 40,
     "metadata": {},
     "output_type": "execute_result"
    }
   ],
   "source": [
    "''' root = ridder(f,a,b,tol=1.0e-9).\n",
    "    Finds a root of f(x) = 0 with Ridder’s method.\n",
    "    The root must be bracketed in (a,b).\n",
    "\n",
    "def ridder(f, a, b, tol=1.0e-9):\n",
    "    fa = f(a)\n",
    "    if fa == 0.0: \n",
    "        return a\n",
    "    \n",
    "    fb = f(b)\n",
    "    if fb == 0.0: \n",
    "        return b\n",
    "\n",
    "        \n",
    "    for i in range(30):\n",
    "      # Compute the improved root x from Ridder’s formula\n",
    "        c = 0.5*(a + b)\n",
    "        fc = f(c)\n",
    "        s = math.sqrt(fc**2 - fa*fb)\n",
    "        if s == 0.0: \n",
    "            return None\n",
    "        \n",
    "        dx = (c - a)*fc/s\n",
    "        \n",
    "        if (fa - fb) < 0.0: \n",
    "            dx = -dx\n",
    "            \n",
    "        x = c + dx\n",
    "        fx = f(x)\n",
    "        \n",
    "      # Test for convergence\n",
    "        if i > 0:\n",
    "            if abs(x - xOld) < tol*max(abs(x),1.0): \n",
    "                return x\n",
    "            \n",
    "        xOld = x\n",
    "        \n",
    "      # Re-bracket the root as tightly as possible\n",
    "        if np.sign(fc) == np.sign(fx):\n",
    "            if np.sign(fa)!= np.sign(fx): \n",
    "                b = x\n",
    "                fb = fx\n",
    "                \n",
    "            else: \n",
    "                a = x\n",
    "                fa = fx\n",
    "                \n",
    "        else:\n",
    "            a = c \n",
    "            b = x \n",
    "            fa = fc \n",
    "            fb = fx\n",
    "    return None\n",
    "    print('Too many iterations')\n",
    "'''"
   ]
  },
  {
   "cell_type": "code",
   "execution_count": 41,
   "metadata": {},
   "outputs": [],
   "source": [
    "from pyroots import Ridder\n",
    "\n",
    "ridder = Ridder(epsilon=10**(-9))"
   ]
  },
  {
   "cell_type": "code",
   "execution_count": 65,
   "metadata": {},
   "outputs": [],
   "source": [
    "# Definimos las condiciones iniciales de la forma de un problema de condiciones iniciales\n",
    "# u es el valor obtenido de resolver r(u)\n",
    "def condiciones(u):\n",
    "    return u\n",
    "\n",
    "def r(u): \n",
    "    T, Y = integrate(f, x_Init, condiciones(u), x_End, h)\n",
    "    y = Y[len(Y) - 1]\n",
    "    r = y[0] + 1.0\n",
    "    return r"
   ]
  },
  {
   "cell_type": "markdown",
   "metadata": {},
   "source": [
    "Definimos el metodo de Runge Kutta 4 para dos variables como el método de integración:"
   ]
  },
  {
   "cell_type": "code",
   "execution_count": 63,
   "metadata": {
    "scrolled": false
   },
   "outputs": [],
   "source": [
    "''' X,Y = integrate(F,x,y,xStop,h).\n",
    "    4th-order Runge-Kutta method for solving the\n",
    "    initial value problem {y}’ = {F(x,{y})}, where\n",
    "    {y} = {y[0],y[1],...y[n-1]}.\n",
    "    \n",
    "    @param: x, y    = initial conditions\n",
    "    @param: xStop   = terminal value of x\n",
    "    @param: h       = increment of x used in integration\n",
    "    @param: fun     = user-supplied function that returns the\n",
    "                        array F(x,y) = {y’[0],y’[1],...,y’[n-1]}.\n",
    "'''\n",
    "\n",
    "def integrate(fun, x, y, xStop, h):\n",
    "    \n",
    "    def run_kut4(F,x,y,h):\n",
    "        K0 = h*F(x,y)\n",
    "        K1 = h*F(x + h/2.0, y + K0/2.0)\n",
    "        K2 = h*F(x + h/2.0, y + K1/2.0)\n",
    "        K3 = h*F(x + h, y + K2)\n",
    "        return (K0 + 2.0*K1 + 2.0*K2 + K3)/6.0\n",
    "    \n",
    "    X = []\n",
    "    Y = []\n",
    "    X.append(x)\n",
    "    Y.append(y)\n",
    "    while x < xStop:\n",
    "        \n",
    "        y = y + run_kut4(fun,x,y,h) \n",
    "        print(h)\n",
    "        \n",
    "        x+=h\n",
    "        \n",
    "        print(x)\n",
    "        print(xStop)\n",
    "        \n",
    "        X.append(x)\n",
    "        Y.append(y)\n",
    "    \n",
    "    print(X)\n",
    "    print()\n",
    "    print(Y)\n",
    "    return X, Y"
   ]
  },
  {
   "cell_type": "markdown",
   "metadata": {},
   "source": [
    "Ahora, definimos los valores estimados de $y'(0)$. Se asume que la función es suave y notamos que es decreciente:"
   ]
  },
  {
   "cell_type": "code",
   "execution_count": 47,
   "metadata": {},
   "outputs": [],
   "source": [
    "estimacion1 = 0.5\n",
    "estimacion2 = 1"
   ]
  },
  {
   "cell_type": "markdown",
   "metadata": {},
   "source": [
    "Finalmente, procedemos con la resolución:"
   ]
  },
  {
   "cell_type": "code",
   "execution_count": 67,
   "metadata": {
    "scrolled": false
   },
   "outputs": [
    {
     "ename": "TypeError",
     "evalue": "'float' object is not subscriptable",
     "output_type": "error",
     "traceback": [
      "\u001b[0;31m---------------------------------------------------------------------------\u001b[0m",
      "\u001b[0;31mTypeError\u001b[0m                                 Traceback (most recent call last)",
      "\u001b[0;32m<ipython-input-67-86fc629f5ebb>\u001b[0m in \u001b[0;36m<module>\u001b[0;34m\u001b[0m\n\u001b[1;32m      2\u001b[0m \u001b[0;31m#yPrimaInit = ridder(r, estimacion1, estimacion2)\u001b[0m\u001b[0;34m\u001b[0m\u001b[0;34m\u001b[0m\u001b[0;34m\u001b[0m\u001b[0m\n\u001b[1;32m      3\u001b[0m \u001b[0;34m\u001b[0m\u001b[0m\n\u001b[0;32m----> 4\u001b[0;31m \u001b[0mT\u001b[0m\u001b[0;34m,\u001b[0m \u001b[0mX\u001b[0m  \u001b[0;34m=\u001b[0m \u001b[0mintegrate\u001b[0m\u001b[0;34m(\u001b[0m\u001b[0mf\u001b[0m\u001b[0;34m,\u001b[0m \u001b[0mx_Init\u001b[0m\u001b[0;34m,\u001b[0m \u001b[0mestimacion1\u001b[0m\u001b[0;34m,\u001b[0m \u001b[0mx_End\u001b[0m\u001b[0;34m,\u001b[0m \u001b[0mh\u001b[0m\u001b[0;34m)\u001b[0m\u001b[0;34m\u001b[0m\u001b[0;34m\u001b[0m\u001b[0m\n\u001b[0m",
      "\u001b[0;32m<ipython-input-63-2b15c5bc0fec>\u001b[0m in \u001b[0;36mintegrate\u001b[0;34m(fun, x, y, xStop, h)\u001b[0m\n\u001b[1;32m     25\u001b[0m     \u001b[0mY\u001b[0m\u001b[0;34m.\u001b[0m\u001b[0mappend\u001b[0m\u001b[0;34m(\u001b[0m\u001b[0my\u001b[0m\u001b[0;34m)\u001b[0m\u001b[0;34m\u001b[0m\u001b[0;34m\u001b[0m\u001b[0m\n\u001b[1;32m     26\u001b[0m     \u001b[0;32mwhile\u001b[0m \u001b[0mx\u001b[0m \u001b[0;34m<\u001b[0m \u001b[0mxStop\u001b[0m\u001b[0;34m:\u001b[0m\u001b[0;34m\u001b[0m\u001b[0;34m\u001b[0m\u001b[0m\n\u001b[0;32m---> 27\u001b[0;31m         \u001b[0my\u001b[0m \u001b[0;34m=\u001b[0m \u001b[0my\u001b[0m \u001b[0;34m+\u001b[0m \u001b[0mrun_kut4\u001b[0m\u001b[0;34m(\u001b[0m\u001b[0mfun\u001b[0m\u001b[0;34m,\u001b[0m\u001b[0mx\u001b[0m\u001b[0;34m,\u001b[0m\u001b[0my\u001b[0m\u001b[0;34m,\u001b[0m\u001b[0mh\u001b[0m\u001b[0;34m)\u001b[0m\u001b[0;34m\u001b[0m\u001b[0;34m\u001b[0m\u001b[0m\n\u001b[0m\u001b[1;32m     28\u001b[0m         \u001b[0mprint\u001b[0m\u001b[0;34m(\u001b[0m\u001b[0mh\u001b[0m\u001b[0;34m)\u001b[0m\u001b[0;34m\u001b[0m\u001b[0;34m\u001b[0m\u001b[0m\n\u001b[1;32m     29\u001b[0m \u001b[0;34m\u001b[0m\u001b[0m\n",
      "\u001b[0;32m<ipython-input-63-2b15c5bc0fec>\u001b[0m in \u001b[0;36mrun_kut4\u001b[0;34m(F, x, y, h)\u001b[0m\n\u001b[1;32m     14\u001b[0m \u001b[0;34m\u001b[0m\u001b[0m\n\u001b[1;32m     15\u001b[0m     \u001b[0;32mdef\u001b[0m \u001b[0mrun_kut4\u001b[0m\u001b[0;34m(\u001b[0m\u001b[0mF\u001b[0m\u001b[0;34m,\u001b[0m\u001b[0mx\u001b[0m\u001b[0;34m,\u001b[0m\u001b[0my\u001b[0m\u001b[0;34m,\u001b[0m\u001b[0mh\u001b[0m\u001b[0;34m)\u001b[0m\u001b[0;34m:\u001b[0m\u001b[0;34m\u001b[0m\u001b[0;34m\u001b[0m\u001b[0m\n\u001b[0;32m---> 16\u001b[0;31m         \u001b[0mK0\u001b[0m \u001b[0;34m=\u001b[0m \u001b[0mh\u001b[0m\u001b[0;34m*\u001b[0m\u001b[0mF\u001b[0m\u001b[0;34m(\u001b[0m\u001b[0mx\u001b[0m\u001b[0;34m,\u001b[0m\u001b[0my\u001b[0m\u001b[0;34m)\u001b[0m\u001b[0;34m\u001b[0m\u001b[0;34m\u001b[0m\u001b[0m\n\u001b[0m\u001b[1;32m     17\u001b[0m         \u001b[0mK1\u001b[0m \u001b[0;34m=\u001b[0m \u001b[0mh\u001b[0m\u001b[0;34m*\u001b[0m\u001b[0mF\u001b[0m\u001b[0;34m(\u001b[0m\u001b[0mx\u001b[0m \u001b[0;34m+\u001b[0m \u001b[0mh\u001b[0m\u001b[0;34m/\u001b[0m\u001b[0;36m2.0\u001b[0m\u001b[0;34m,\u001b[0m \u001b[0my\u001b[0m \u001b[0;34m+\u001b[0m \u001b[0mK0\u001b[0m\u001b[0;34m/\u001b[0m\u001b[0;36m2.0\u001b[0m\u001b[0;34m)\u001b[0m\u001b[0;34m\u001b[0m\u001b[0;34m\u001b[0m\u001b[0m\n\u001b[1;32m     18\u001b[0m         \u001b[0mK2\u001b[0m \u001b[0;34m=\u001b[0m \u001b[0mh\u001b[0m\u001b[0;34m*\u001b[0m\u001b[0mF\u001b[0m\u001b[0;34m(\u001b[0m\u001b[0mx\u001b[0m \u001b[0;34m+\u001b[0m \u001b[0mh\u001b[0m\u001b[0;34m/\u001b[0m\u001b[0;36m2.0\u001b[0m\u001b[0;34m,\u001b[0m \u001b[0my\u001b[0m \u001b[0;34m+\u001b[0m \u001b[0mK1\u001b[0m\u001b[0;34m/\u001b[0m\u001b[0;36m2.0\u001b[0m\u001b[0;34m)\u001b[0m\u001b[0;34m\u001b[0m\u001b[0;34m\u001b[0m\u001b[0m\n",
      "\u001b[0;32m<ipython-input-35-bbc13fc76a1c>\u001b[0m in \u001b[0;36mf\u001b[0;34m(t, x)\u001b[0m\n\u001b[1;32m      2\u001b[0m \u001b[0;32mdef\u001b[0m \u001b[0mf\u001b[0m\u001b[0;34m(\u001b[0m\u001b[0mt\u001b[0m\u001b[0;34m,\u001b[0m\u001b[0mx\u001b[0m\u001b[0;34m)\u001b[0m\u001b[0;34m:\u001b[0m\u001b[0;34m\u001b[0m\u001b[0;34m\u001b[0m\u001b[0m\n\u001b[1;32m      3\u001b[0m     \u001b[0mf\u001b[0m \u001b[0;34m=\u001b[0m \u001b[0mnp\u001b[0m\u001b[0;34m.\u001b[0m\u001b[0mzeros\u001b[0m\u001b[0;34m(\u001b[0m\u001b[0;36m2\u001b[0m\u001b[0;34m)\u001b[0m\u001b[0;34m\u001b[0m\u001b[0;34m\u001b[0m\u001b[0m\n\u001b[0;32m----> 4\u001b[0;31m     \u001b[0mf\u001b[0m\u001b[0;34m[\u001b[0m\u001b[0;36m0\u001b[0m\u001b[0;34m]\u001b[0m \u001b[0;34m=\u001b[0m \u001b[0mx\u001b[0m\u001b[0;34m[\u001b[0m\u001b[0;36m1\u001b[0m\u001b[0;34m]\u001b[0m\u001b[0;34m\u001b[0m\u001b[0;34m\u001b[0m\u001b[0m\n\u001b[0m\u001b[1;32m      5\u001b[0m     \u001b[0mf\u001b[0m\u001b[0;34m[\u001b[0m\u001b[0;36m1\u001b[0m\u001b[0;34m]\u001b[0m \u001b[0;34m=\u001b[0m \u001b[0;34m-\u001b[0m \u001b[0;36m2\u001b[0m \u001b[0;34m*\u001b[0m \u001b[0mx\u001b[0m\u001b[0;34m[\u001b[0m\u001b[0;36m1\u001b[0m\u001b[0;34m]\u001b[0m \u001b[0;34m-\u001b[0m \u001b[0;36m3\u001b[0m \u001b[0;34m*\u001b[0m \u001b[0mx\u001b[0m\u001b[0;34m[\u001b[0m\u001b[0;36m0\u001b[0m\u001b[0;34m]\u001b[0m \u001b[0;34m**\u001b[0m \u001b[0;36m2\u001b[0m\u001b[0;34m\u001b[0m\u001b[0;34m\u001b[0m\u001b[0m\n\u001b[1;32m      6\u001b[0m     \u001b[0;32mreturn\u001b[0m \u001b[0mf\u001b[0m\u001b[0;34m\u001b[0m\u001b[0;34m\u001b[0m\u001b[0m\n",
      "\u001b[0;31mTypeError\u001b[0m: 'float' object is not subscriptable"
     ]
    }
   ],
   "source": [
    "#yPrimaInit = ridder(r, estimacion1, estimacion2)\n",
    "#yPrimaInit = ridder(r, estimacion1, estimacion2)\n",
    "\n",
    "T, X  = integrate(f, x_Init, estimacion1, x_End, h)"
   ]
  },
  {
   "cell_type": "markdown",
   "metadata": {},
   "source": [
    "### P3: Resolución de Ecuaciones Diferenciales"
   ]
  },
  {
   "cell_type": "markdown",
   "metadata": {},
   "source": [
    "### P4: Resolución de Ecuaciones Diferenciales."
   ]
  }
 ],
 "metadata": {
  "kernelspec": {
   "display_name": "Python 3",
   "language": "python",
   "name": "python3"
  },
  "language_info": {
   "codemirror_mode": {
    "name": "ipython",
    "version": 3
   },
   "file_extension": ".py",
   "mimetype": "text/x-python",
   "name": "python",
   "nbconvert_exporter": "python",
   "pygments_lexer": "ipython3",
   "version": "3.7.3"
  }
 },
 "nbformat": 4,
 "nbformat_minor": 2
}
