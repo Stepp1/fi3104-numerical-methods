{
 "cells": [
  {
   "cell_type": "markdown",
   "metadata": {},
   "source": [
    "Imports and set a seed:"
   ]
  },
  {
   "cell_type": "code",
   "execution_count": 37,
   "metadata": {},
   "outputs": [],
   "source": [
    "import timeit\n",
    "import numpy as np\n",
    "import matplotlib.pyplot as plt\n",
    "from math import pi, cos, sin\n",
    "from astropy.table import Table, Row\n",
    "from scipy.integrate import odeint, ode\n",
    "from pyroots import Ridder\n",
    "from scipy.optimize import root\n",
    "np.random.seed(4664)"
   ]
  },
  {
   "cell_type": "markdown",
   "metadata": {},
   "source": [
    "### Métodos Númericos para la Ciencia y la Ingenieria \n",
    "\n",
    "# <u>Tarea 3</u>\n",
    "## Densidades de probabilidad, Método Monte Carlo, Métodos de Shooting , Resolución de Ecuaciones Diferenciales. \n",
    "\n",
    "\n",
    "### Victor Faraggi"
   ]
  },
  {
   "cell_type": "markdown",
   "metadata": {},
   "source": [
    "### P1: Densidades de probabilidad, Método Monte Carlo"
   ]
  },
  {
   "cell_type": "code",
   "execution_count": 2,
   "metadata": {},
   "outputs": [],
   "source": [
    "## wrapper function to use timeit module on a function with arguments\n",
    "\n",
    "def wrapper(func, *args, **kwargs):\n",
    "    def wrapped():\n",
    "        return func(*args, **kwargs)\n",
    "    return wrapped"
   ]
  },
  {
   "cell_type": "code",
   "execution_count": 3,
   "metadata": {},
   "outputs": [],
   "source": [
    "## Classes used to create a table\n",
    "\n",
    "class ParamsRow(Row):\n",
    "    \"\"\"\n",
    "    Row class that allows access to an arbitrary dict of parameters\n",
    "    stored as a dict object in the ``params`` column.\n",
    "    \"\"\"\n",
    "    def __getitem__(self, item):\n",
    "        if item not in self.colnames:\n",
    "            return super().__getitem__('params')[item]\n",
    "        else:\n",
    "            return super().__getitem__(item)\n",
    "\n",
    "    def keys(self):\n",
    "        out = [name for name in self.colnames if name != 'params']\n",
    "        params = [key.lower() for key in sorted(self['params'])]\n",
    "        return out + params\n",
    "\n",
    "    def values(self):\n",
    "        return [self[key] for key in self.keys()]\n",
    "\n",
    "class ParamsTable(Table):\n",
    "    Row = ParamsRow"
   ]
  },
  {
   "cell_type": "code",
   "execution_count": 4,
   "metadata": {},
   "outputs": [],
   "source": [
    "def method1(n):\n",
    "    # se buscan generar n puntos\n",
    "    while n > 0:\n",
    "        # Usando densidades de probabilidad\n",
    "        y1 = np.random.uniform(0,1)\n",
    "        y2 = np.random.uniform(0,1)\n",
    "        r = 0\n",
    "        phi =  np.random.uniform(0, math.pi)\n",
    "        return None"
   ]
  },
  {
   "cell_type": "code",
   "execution_count": 5,
   "metadata": {},
   "outputs": [],
   "source": [
    "def methodºPlot():\n",
    "    # se buscan los primeros 200 puntos dentro del circulo\n",
    "    pointsX = []\n",
    "    pointsY = []\n",
    "    while len(pointsX) < 200:\n",
    "        a = 0\n",
    "    plt.plot(pointsX, pointsY, 'x')\n",
    "    plt.title(\"Primeros 200 puntos al interior del círculo\")\n",
    "    plt.grid(True)"
   ]
  },
  {
   "cell_type": "code",
   "execution_count": 6,
   "metadata": {},
   "outputs": [],
   "source": [
    "def method2(n):\n",
    "    # se buscan generar n puntos\n",
    "    while n > 0:\n",
    "        # Monte Carlo\n",
    "        while True:\n",
    "            # se generan puntos en el cuadrado -1:1 centrado en 0\n",
    "            x = np.random.uniform(-1,1)\n",
    "            y = np.random.uniform(-1,1)\n",
    "            \n",
    "            # el punto esta en el circulo\n",
    "            if(x**2 + y**2 <= 1):\n",
    "                break\n",
    "        \n",
    "        n = n - 1\n",
    "                \n",
    "    # se generaron los n puntos"
   ]
  },
  {
   "cell_type": "code",
   "execution_count": 7,
   "metadata": {},
   "outputs": [
    {
     "data": {
      "image/png": "[encoded data removed]",
      "text/plain": [
       "<Figure size 432x288 with 1 Axes>"
      ]
     },
     "metadata": {
      "needs_background": "light"
     },
     "output_type": "display_data"
    }
   ],
   "source": [
    "def method2Plot():\n",
    "    # se buscan los primeros 200 puntos dentro del circulo\n",
    "    pointsX = []\n",
    "    pointsY = []\n",
    "    while len(pointsX) < 200:\n",
    "        while True:\n",
    "            # se generan puntos en el cuadrado -1:1 centrado en 0\n",
    "            x = np.random.uniform(-1,1)\n",
    "            y = np.random.uniform(-1,1)\n",
    "            \n",
    "            # el punto esta en el circulo\n",
    "            if(x**2 + y**2 <= 1):\n",
    "                pointsX.append(x)\n",
    "                pointsY.append(y)\n",
    "                break\n",
    "    circle = plt.Circle((0, 0), 1, color='r', fill=False)\n",
    "    ax = plt.gca()\n",
    "    ax.cla()\n",
    "    ax.plot(pointsX, pointsY, 'x')\n",
    "    ax.add_artist(circle)\n",
    "    plt.title(\"Primeros 200 puntos al interior del círculo\")\n",
    "    ax.grid(True)\n",
    "    \n",
    "method2Plot()"
   ]
  },
  {
   "cell_type": "code",
   "execution_count": 8,
   "metadata": {},
   "outputs": [
    {
     "name": "stdout",
     "output_type": "stream",
     "text": [
      "Ejecutamos el metodo 2\n",
      "Con 10^6 puntos\n",
      "El segundo metodo se demora: 2.8716554166666666 segundos con 10^6 puntos\n",
      "Con 10^7 puntos\n",
      "El segundo metodo se demora: 27.78581375633333 segundos con 10^7 puntos\n",
      "Con 10^8 puntos\n",
      "El segundo metodo se demora: 274.49934184933335 segundos con 10^8 puntos\n"
     ]
    }
   ],
   "source": [
    "def perfTest():\n",
    "    '''\n",
    "    print(\"Ejecutamos el metodo 1\")\n",
    "    print(\"Con 10^6 puntos\")\n",
    "    test1method1 = timeit.timeit(method1(10**6), number=3)\n",
    "    print(\"El segundo metodo se demora: \" + str(test1method2) + \" segundos con 10^6 puntos\")\n",
    "    print(\"Con 10^7 puntos\")\n",
    "    test2method1 = timeit.timeit(method1(10*7), number=3)\n",
    "    print(\"El segundo metodo se demora: \" + str(test1method2) + \" segundos con 10^7 puntos\")          \n",
    "    print(\"Con 10^8 puntos\")\n",
    "    test3method1 = timeit.timeit(method1(10**8), number=3)\n",
    "    print(\"El segundo metodo se demora: \" + str(test1method2) + \" segundos con 10^8 puntos\")          \n",
    "    '''\n",
    "    perfMethod1= [0, 0, 0]\n",
    "    \n",
    "    \n",
    "    print(\"Ejecutamos el metodo 2\")\n",
    "    \n",
    "    print(\"Con 10^6 puntos\")\n",
    "    wrapped = wrapper(method2, 10**6)\n",
    "    test1method2 = timeit.timeit(wrapped, number=3)/3\n",
    "    print(\"El segundo metodo se demora: \" + str(test1method2) + \" segundos con 10^6 puntos\")\n",
    "    \n",
    "    print(\"Con 10^7 puntos\")\n",
    "    wrapped = wrapper(method2, 10**7)\n",
    "    test2method2 = timeit.timeit(wrapped, number=3)/3\n",
    "    print(\"El segundo metodo se demora: \" + str(test2method2) + \" segundos con 10^7 puntos\")          \n",
    "    \n",
    "    print(\"Con 10^8 puntos\")\n",
    "    wrapped = wrapper(method2, 10**8)\n",
    "    test3method2 = timeit.timeit(wrapped, number=3)/3\n",
    "    print(\"El segundo metodo se demora: \" + str(test3method2) + \" segundos con 10^8 puntos\")          \n",
    "    \n",
    "    perfMethod2= [test1method2, test2method2, test3method2]\n",
    "    \n",
    "    perf = [perfMethod1, perfMethod2]\n",
    "    return perf\n",
    "# We test the methods    \n",
    "perf = perfTest()"
   ]
  },
  {
   "cell_type": "code",
   "execution_count": 9,
   "metadata": {},
   "outputs": [
    {
     "name": "stdout",
     "output_type": "stream",
     "text": [
      "cantidad de puntos tiempo método1 tiempo método2\n",
      "------------------ -------------- --------------\n",
      "           1000000            0.0      2.8716555\n",
      "          10000000            0.0      27.785814\n",
      "         100000000            0.0      274.49933\n"
     ]
    }
   ],
   "source": [
    "def plotResults(perf= perf):\n",
    "    t = ParamsTable(names=['cantidad de puntos', 'tiempo método1', 'tiempo método2'], dtype=['i', 'f', 'f'])\n",
    "    t.add_row((10**6, perf[0][0], perf[1][0]))\n",
    "    t.add_row((10**7, perf[0][1], perf[1][1]))\n",
    "    t.add_row((10**8, perf[0][2], perf[1][2]))\n",
    "    print(t)\n",
    "plotResults()"
   ]
  },
  {
   "cell_type": "markdown",
   "metadata": {},
   "source": [
    "Se puede apreciar que el uso de densidades de probabilidad es más eficiente para una cantidad **...** y el uso del método Monte Carlo es más eficiente para cantidades **...**.\n",
    "\n",
    "Como no se realizó el método 1, por intuición, Monte Carlo debería ser más eficaz para cantidades menores de puntos."
   ]
  },
  {
   "cell_type": "markdown",
   "metadata": {},
   "source": [
    "Hay que recordar que usamos funciones para los dos métodos. Esto produce un tiempo de ejecución mayor a que si las soluciones estuvieran fuera de funciones. Esta última parte busca **comparar** la eficacia ambos métodos. Por esto se les compara en igualdad de condiciones: al interior funciones que son lo más simple posible.\n",
    "\n",
    "Si lo que se busca es crear el código más eficiente para alguna solución: se recomienda que sea escrito fuera de funciones. Si el tiempo resultante sigue siendo mayor al buscado, se recomienda el uso de otros lenguaejes de programación como C o C++."
   ]
  },
  {
   "cell_type": "markdown",
   "metadata": {},
   "source": [
    "### P2: Métodos de Shooting\n",
    "\n",
    "Se busca resolver la siguiente ecuación:\n",
    "$$\n",
    "y′′+2y′+3y^2 = 0 \\space con \\space y(0) = 0 \\space y \\space y(2) = −1.\n",
    "$$"
   ]
  },
  {
   "cell_type": "markdown",
   "metadata": {},
   "source": [
    "Simplificamos la ecuación de segundo orden a una de primer orden:"
   ]
  },
  {
   "cell_type": "markdown",
   "metadata": {},
   "source": [
    "$$\n",
    "y = x_0\n",
    "\\land\n",
    "y' = x_1\n",
    "\\space\n",
    "\\implies\n",
    "\\space\n",
    "x_1' + 2x_1 + 3x_0^2 = 0\n",
    "$$\n"
   ]
  },
  {
   "cell_type": "markdown",
   "metadata": {},
   "source": [
    "Así, resulta el siguiente sistema de ecuaciones:"
   ]
  },
  {
   "cell_type": "markdown",
   "metadata": {},
   "source": [
    "$$\n",
    "x_0' = x_1\n",
    "$$\n",
    "\n",
    "$$\n",
    "x_1' = -2x_1 - 3x_0^2\n",
    "$$"
   ]
  },
  {
   "cell_type": "markdown",
   "metadata": {},
   "source": [
    "Así, las condiciones iniciales son las siguientes:"
   ]
  },
  {
   "cell_type": "markdown",
   "metadata": {},
   "source": [
    "$$\n",
    "y(0) = x_0(0) = 0\n",
    "\\\\\n",
    "\\land\n",
    "\\\\\n",
    "y(2) = x_0(2) = -1\n",
    "$$"
   ]
  },
  {
   "cell_type": "code",
   "execution_count": 10,
   "metadata": {},
   "outputs": [],
   "source": [
    "# Definimos el sistema de ecuaciones\n",
    "def f(x, t):\n",
    "    return [x[1], - 2 * x[1] - 3 * x[0] ** 2]\n",
    "\n",
    "# Definimos los boundaries\n",
    "x_Init = 0.0 # coincide con y(0) = 0\n",
    "x_End = 2.0\n",
    "\n",
    "# Definimos el paso de integracion\n",
    "h = 0.0001"
   ]
  },
  {
   "cell_type": "markdown",
   "metadata": {},
   "source": [
    "Queremos encontrar el valor de $y'(0)$ para obtener un problema de condiciones iniciales. \n",
    "\n",
    "Para esto, se debe resolver un problema de raíces:"
   ]
  },
  {
   "cell_type": "markdown",
   "metadata": {},
   "source": [
    "$$\n",
    "y'(0) = \\theta(u)\n",
    "\\\\\n",
    "\\implies\n",
    "\\\\\n",
    "r(u) = \\theta(u) - y(2) = 0\n",
    "$$"
   ]
  },
  {
   "cell_type": "markdown",
   "metadata": {},
   "source": [
    "Remplazando por el cambio de variable:"
   ]
  },
  {
   "cell_type": "markdown",
   "metadata": {},
   "source": [
    "$$\n",
    "r(u) = x_1(u) - x_0(2) = 0\n",
    "$$\n",
    "\n",
    "$$\n",
    "r(u) = x_1(u) + 1 = 0\n",
    "$$\n",
    "\n",
    "La función $r$ se denomina límte residual de la ecuación diferencial."
   ]
  },
  {
   "cell_type": "markdown",
   "metadata": {},
   "source": [
    "Para resolver usamos el método de Ridder:"
   ]
  },
  {
   "cell_type": "code",
   "execution_count": 11,
   "metadata": {},
   "outputs": [],
   "source": [
    "ridder = Ridder(epsilon=10**(-9))"
   ]
  },
  {
   "cell_type": "code",
   "execution_count": 12,
   "metadata": {},
   "outputs": [],
   "source": [
    "# Resolvemos y'(0)\n",
    "def r(u): \n",
    "    Y = odeint(f, [x_Init, 2.0], T)\n",
    "    r = Y[-1].any() - 1.0\n",
    "    return r"
   ]
  },
  {
   "cell_type": "markdown",
   "metadata": {},
   "source": [
    "Ahora, definimos los valores estimados de $y'(0)$. Se asume que la función es suave y notamos que es decreciente:"
   ]
  },
  {
   "cell_type": "code",
   "execution_count": 13,
   "metadata": {},
   "outputs": [],
   "source": [
    "estimacion1 = -0.5\n",
    "estimacion2 = -1.5"
   ]
  },
  {
   "cell_type": "markdown",
   "metadata": {},
   "source": [
    "Finalmente, procedemos con la resolución:"
   ]
  },
  {
   "cell_type": "code",
   "execution_count": 14,
   "metadata": {
    "scrolled": false
   },
   "outputs": [],
   "source": [
    "T = np.arange(x_Init, x_End, h)\n",
    "\n",
    "xPrimaInit = ridder(r, estimacion1, estimacion2)\n",
    "\n",
    "'''\n",
    "Intento de solucionar con el paquete ode: \n",
    "En este se puede seleccionar que metodo de integración se usa. Dopri5 corresponde a Runge-Kutta 4.\n",
    "\n",
    "s = ode(f)\n",
    "\n",
    "s.set_integrator('dopri5')\n",
    "s.set_initial_value(xPrimaInit.x0, x_Init)\n",
    "X = [xPrimaInit.x0, x_Init]\n",
    "while s.successful() and s.t < T[-1]:\n",
    "    s.integrate(s.t + h)\n",
    "    X.append(s.y)\n",
    "'''\n",
    "X  = odeint(f, [x_Init, xPrimaInit.x0], T)"
   ]
  },
  {
   "cell_type": "markdown",
   "metadata": {},
   "source": [
    "Graficamos la solución"
   ]
  },
  {
   "cell_type": "code",
   "execution_count": 15,
   "metadata": {
    "scrolled": true
   },
   "outputs": [
    {
     "data": {
      "text/plain": [
       "<matplotlib.legend.Legend at 0x122a4d390>"
      ]
     },
     "execution_count": 15,
     "metadata": {},
     "output_type": "execute_result"
    },
    {
     "data": {
      "image/png": "[encoded data removed]",
      "text/plain": [
       "<Figure size 432x288 with 1 Axes>"
      ]
     },
     "metadata": {
      "needs_background": "light"
     },
     "output_type": "display_data"
    }
   ],
   "source": [
    "plt.plot(T,X[:,0],label=\"y(t)\")\n",
    "plt.plot(T,X[:,1],label=\"y'(t)\")\n",
    "plt.grid(True)\n",
    "plt.legend()"
   ]
  },
  {
   "cell_type": "markdown",
   "metadata": {},
   "source": [
    "Vale recordar que para la resolución de esta problema se busca implementar el *método de shooting*. Por esto para integrar y resolver el problema de raíces se usan librerias que incluyen métodos númericos ya implementados.\n",
    "\n",
    "El método de Ridder fue visto en clases y *odeint* utiliza el método de *Real-valued Variable-coefficient Ordinary Differential Equation*.\n",
    "\n",
    "Para más información referirse al siguiente sitio, apartado \"lsoda\": https://docs.scipy.org/doc/scipy/reference/generated/scipy.integrate.ode.html"
   ]
  },
  {
   "cell_type": "markdown",
   "metadata": {},
   "source": [
    "### P3: Resolución de Ecuaciones Diferenciales"
   ]
  },
  {
   "cell_type": "markdown",
   "metadata": {},
   "source": [
    "Definimos los parámetros del problema:"
   ]
  },
  {
   "cell_type": "code",
   "execution_count": 16,
   "metadata": {},
   "outputs": [],
   "source": [
    "# distancia recorrida\n",
    "dist_recorrida = 8000\n",
    "\n",
    "# gravedad\n",
    "g = 9.81\n",
    "\n",
    "# constante\n",
    "c = 3.2*10**(-4)\n",
    "\n",
    "# masa\n",
    "m = 20\n",
    "\n",
    "# tiempo de vuelo\n",
    "t_final = 10"
   ]
  },
  {
   "cell_type": "markdown",
   "metadata": {},
   "source": [
    "Se tienen en consideración:\n",
    "\n",
    "$$\n",
    "\\vec{F}_{\\rm D} = - c v^2 \\hat{v}\n",
    "\\\\\n",
    "\\land\n",
    "\\\\\n",
    "\\vec{F}_{\\rm g} = m \\vec{g}\n",
    "$$\n",
    "\n"
   ]
  },
  {
   "cell_type": "markdown",
   "metadata": {},
   "source": [
    "La sumatoria de fuerzas queda:\n",
    "\n",
    "$$\n",
    "\\sum \\vec{F} = m \\vec{g} - c v^2 \\hat{v}\n",
    "\\\\\n",
    "\\implies\n",
    "\\\\\n",
    "m\\,\\frac{d{\\bf v}}{dt} = m\\,{\\bf g} - c\\,{\\bf v}^2,\n",
    "$$"
   ]
  },
  {
   "cell_type": "markdown",
   "metadata": {},
   "source": [
    "Donde ${\\bf v} = (v_x, v_z)$ y  ${\\bf g} = (0, -g)$\n",
    "    \n",
    "Así, se tiene:\n",
    "<center>\n",
    "$\\displaystyle \\frac{d{\\bf v_x}}{dt}$\t$\\textstyle =$\t$\\displaystyle - c\\,\\frac{v_x}{v_t},$\n",
    "\n",
    "<center>\n",
    "$\\displaystyle \\frac{d {\\bf v_z}}{dt}$\t$\\textstyle =$\t$\\displaystyle - g\\left(1+\\frac{v_z}{v_t}\\right).$\n",
    "</center>\n",
    "\n",
    "Donde la velocidad al momento del impacto es: $v_t = m\\,\\frac{g}{c}$ \n",
    "\n",
    "Asimismo se conoce que las condiciones iniciales: $v_{x\\,0} = v_0\\,\\cos\\theta$ y $v_{z\\,0}=v_0\\,\\sin\\theta$, donde $v_0$ y $\\theta$ no son conocidos."
   ]
  },
  {
   "cell_type": "markdown",
   "metadata": {},
   "source": [
    "Se busca determinar ${\\bf v_x}$ y ${\\bf v_x}$ pero no conoces las condiciones iniciales de sus derivadas. Para esto se utiliza el método de shooting."
   ]
  },
  {
   "cell_type": "code",
   "execution_count": 19,
   "metadata": {},
   "outputs": [],
   "source": [
    "# epsilon\n",
    "epsilon = 10**(-3)\n",
    "\n",
    "# velocidad al impacto\n",
    "\n",
    "v_T = m * g/c\n",
    "\n",
    "# Definimos los posibles valores del angulo (thetaMax = pi/2 - epsilon)\n",
    "posible_Theta = np.arange(0, pi/2 - epsilon, 0.01)\n",
    "\n",
    "# Definimos los posibles valores de la velocidad inicial (vMax = 8000/10)\n",
    "posible_Velocidad_Init = np.arange(0, 800, 0.01)\n",
    "\n",
    "# Así definimos las posibles velocidades iniciales\n",
    "def vInitPosibles_X(vPosibles= posible_Velocidad_Init, thetaPosibles= posible_Theta):\n",
    "    \n",
    "    v_Init = np.zeros((vPosibles.shape[0], thetaPosibles.shape[0]))\n",
    "    \n",
    "    for vIndex,v in enumerate(vPosibles):\n",
    "        for thetaIndex, theta in enumerate(thetaPosibles):\n",
    "            v_Init[vIndex][thetaIndex] = v * cos(theta)\n",
    "    \n",
    "    return v_Init\n",
    "\n",
    "def vInitPosibles_Z(vPosibles= posible_Velocidad_Init, thetaPosibles= posible_Velocidad_Init):\n",
    "    \n",
    "    v_Init = np.zeros((vPosibles.shape[0], thetaPosibles.shape[0]))\n",
    "    \n",
    "    for vIndex,v in enumerate(vPosibles):\n",
    "        for thetaIndex, theta in enumerate(thetaPosibles):\n",
    "            v_Init[vIndex][thetaIndex] = v * sin(theta)\n",
    "    \n",
    "    return v_Init\n",
    "\n",
    "# Definimos las ecuaciones\n",
    "def vXPrima(vX, t):\n",
    "    return -c * vX / vT\n",
    "\n",
    "def vZPrima(vZ, t):\n",
    "    return -g * (1 + vZ/vT)\n",
    "\n",
    "dist_Init = 0\n",
    "dist_End = dist_recorrida"
   ]
  },
  {
   "cell_type": "markdown",
   "metadata": {},
   "source": [
    "Se definen los límites residuales:"
   ]
  },
  {
   "cell_type": "code",
   "execution_count": 20,
   "metadata": {},
   "outputs": [],
   "source": [
    "## ARREGLAR! --> SE DEBEN PROBAR TODAS LAS POSIBLES VELOCIDADES INICIALES Y DEVOLVER UN VECTOR CON \n",
    "##               LAS INTEGRACIONES CORRESPONDIENTES\n",
    "\n",
    "def rX(u):\n",
    "    vX = odeint(vXPrima, [0, 0], X)\n",
    "    r = vX[-1].any() - 1.0\n",
    "    return r\n",
    "\n",
    "def rZ(u):\n",
    "    vZ = odeint(vZPrima, [0, 0], X)\n",
    "    r = vZ[-1].any() - 1.0\n",
    "    return r"
   ]
  },
  {
   "cell_type": "markdown",
   "metadata": {},
   "source": [
    "Ahora, se realizan las estimaciones de los valores iniciales de $\\dot{\\bf v_x}$ y $\\dot{\\bf v_z}$"
   ]
  },
  {
   "cell_type": "code",
   "execution_count": 21,
   "metadata": {},
   "outputs": [],
   "source": [
    "## SE DEBEN REALIZAR ESTIMACIONES CORRECTAS\n",
    "\n",
    "guess_Vx_Prima = 0\n",
    "\n",
    "guess_Vz_Prima = 0"
   ]
  },
  {
   "cell_type": "markdown",
   "metadata": {},
   "source": [
    "Finalmente, resolvemos:"
   ]
  },
  {
   "cell_type": "code",
   "execution_count": 27,
   "metadata": {
    "scrolled": false
   },
   "outputs": [],
   "source": [
    "X = np.arange(dist_Init, dist_End, 0.01)\n",
    "\n",
    "## Se definen los posibles valores iniciales de las velocidades\n",
    "def posibles_Vx_Prima_Init():\n",
    "    rX = rX\n",
    "    roots_Vx = []\n",
    "    for i in rX:\n",
    "        roots_Vx = root(i, guess_Vx_Prima)\n",
    "        \n",
    "    return roots_Vx\n",
    "    \n",
    "def posibles_Vz_Prima_Init():\n",
    "    rZ = rZ\n",
    "    for i in rZ:\n",
    "        roots_Vz = root(i, guess_Vz_Prima)\n",
    "        \n",
    "    return roots_Vz\n",
    "\n",
    "def res(): \n",
    "    ## Se resuelve para las posibles todas condiciones iniciales\n",
    "    condiciones_Init_X = vInitPosibles_X()\n",
    "    condiciones_Init_X_Derivada = posibles_Vx_Prima_Init()\n",
    "\n",
    "    condiciones_Init_Z = vInitPosibles_Z()\n",
    "    condiciones_Init_Z_Derivada = posibles_Vz_Prima_Init()\n",
    "\n",
    "    ## Se inicializan los vectores velocidad en X y en Z\n",
    "    vX = np.zeros((condiciones_Init_X.shape[0], condiciones_Init_X_Derivada.shape[0]))\n",
    "    vZ = np.zeros((condiciones_Init.shape[0], condiciones_Init_X_Derivada.shape[0]))\n",
    "\n",
    "\n",
    "    ## Se resuelve la velocidad en X\n",
    "    for cond_X_Index, cond_X in enumerate(condiciones_Init_X):\n",
    "        for cond_X_Prima_Index, cond_X_Derivada in enumerate(condiciones_Init_X_Derivada):\n",
    "        \n",
    "            ## calcula valor y lo incluye en las posibles soluciones\n",
    "            res = odeint(vXPrima, [cond_X_Index, cond_X_Derivada], X)\n",
    "            vX[cond_X_Index][cond_X_Prima_Index] = res\n",
    "        \n",
    "        \n",
    "    ## Se resuelve la velocidad en Z\n",
    "    for cond_Z_Index, cond_Z in enumerate(condiciones_Init_Z):\n",
    "        for cond_Z_Prima_Index, cond_Z_Derivada in enumerate(condiciones_Init_Z_Derivada):\n",
    "        \n",
    "            ## calcula valor y lo incluye en las posibles soluciones\n",
    "            res = odeint(vXPrima, [cond_Z, cond_Z_Derivada], X)\n",
    "            vX[cond_X_Index][cond_X_Prima_Index] = res\n",
    "    \n",
    "    return vX, vZ"
   ]
  },
  {
   "cell_type": "markdown",
   "metadata": {},
   "source": [
    "Ahora que se tienen todas las posibles soluciones, basta ver cuál permite que la distancia recorrida sea de 8000 metros. Al conocer esto, se puede obtener la velocidad inicial y ángulo correspodiente a través de su posición en la matriz:"
   ]
  },
  {
   "cell_type": "markdown",
   "metadata": {},
   "source": [
    "Supongamos que ya se determinó la solución, sea *vX_Sol* y *vZ_Sol*. De esta manera, sean *i_x*, *j_x*, *i_z* y *j_z* sus correspondientes índices en *vX* y *vZ*."
   ]
  },
  {
   "cell_type": "markdown",
   "metadata": {},
   "source": [
    "Así, se puede realizar lo siguiente:\n",
    "\n",
    "1. Encontrar la posición de las condiciones iniciales usadas para el valor de $i_x$, $i_z$\n",
    "2. Para esto, se debe verificar la matriz con todas las posibles velocidad iniciales para x y z\n",
    "3. Se obtienen estos nuevos índices: $i_x'$, $j_x'$, $i_z'$ y $j_z'$\n",
    "4. La velocidad inicial es: posible_Velocidad_Init[$i_x'$]\n",
    "5. El angulo inicial es: posible_Theta[$j_x'$]"
   ]
  },
  {
   "cell_type": "markdown",
   "metadata": {},
   "source": [
    "### P4: Resolución de Ecuaciones Diferenciales."
   ]
  },
  {
   "cell_type": "markdown",
   "metadata": {},
   "source": [
    "Se decide utilizar Lagrangiano para obtener las ecuaciones de movimiento.\n",
    "\n",
    "Así, para el bloque $W1$ se tiene la siguiente ecuación:\n",
    "\n",
    "$$\n",
    "\\begin{aligned}\n",
    "L &= \\frac{1}{2} (m_1 \\cdot \\dot{x_1}^2 + m_2 \\cdot \\dot{x_2}^2 + m_3 \\cdot \\dot{x_3}^2) \\\\\n",
    "& - m_1 g  x_1 - m_2  g  x_2 - m_3  g  x_3 \\\\\n",
    "& - \\frac{1}{2} k_1 x_1^2 - \\frac{1}{2} k_2 x_1^2 \\\\\n",
    "& - \\frac{1}{2} k_3 (x_2 - x_1)^2 - \\frac{1}{2} k_4 (x_3 - x_2)^2 - \\frac{1}{2} k_5 (x_3 - x_4)^2\n",
    "\\end{aligned}   \n",
    "$$\n",
    "\n",
    "Así, se obtiene el siguiente sistema de ecuación matricial:\n",
    "\n",
    "$$\n",
    "\\dot{X} = A \\cdot X + C\n",
    "$$\n",
    "\n",
    "Donde las matrices son las siguientes:\n",
    "\n",
    "$$\n",
    "A=\n",
    "  \\begin{bmatrix}\n",
    "    \\frac{-k_1}{m_1}-\\frac{k_3}{m_1}-\\frac{k_5}{m_1} & \\frac{-k_2}{m_1}+\\frac{k_3}{m_1} & \\frac{k_5}{m_1} \\\\\n",
    "    \\frac{k_3}{m_2} & \\frac{-k_2}{m_2}+\\frac{k_3}{m_2} & \\frac{k_4}{m_2} \\\\\n",
    "    \\frac{k_5}{m_3} & \\frac{k_4}{m_3} & \\frac{-k_4}{m_3}+\\frac{k_5}{m_3}\n",
    "  \\end{bmatrix}\n",
    "$$\n",
    "\n",
    "$$\n",
    "X= \n",
    "  \\begin{bmatrix}\n",
    "    x_1 \\\\\n",
    "    x_2 \\\\\n",
    "    x_3\n",
    "   \\end{bmatrix}\n",
    "$$\n",
    "\n",
    "$$\n",
    "C= \n",
    "  \\begin{bmatrix}\n",
    "    -g \\\\\n",
    "    -g \\\\\n",
    "    -g\n",
    "   \\end{bmatrix}\n",
    "$$\n",
    "\n",
    "Por datos del problema se tiene que las siguiente relaciones:\n",
    "1. $m = m_1 = m_2 = 80/g$ gr y $m_3 = 40/g$ gr\n",
    "2. $k = k1 =k3 =k4 =1000$ N/m\n",
    "3. $z = k2 =k5 =2000$ N/m"
   ]
  },
  {
   "cell_type": "markdown",
   "metadata": {},
   "source": [
    "Como el sistema está en equilibrio, entonces $\\dot{X} = 0$.\n",
    "\n",
    "Así, el sistema queda:\n",
    "\n",
    "$$\n",
    "A \\cdot X = - C\n",
    "$$"
   ]
  },
  {
   "cell_type": "code",
   "execution_count": 34,
   "metadata": {},
   "outputs": [],
   "source": [
    "## Se ingresan los datos del problema:\n",
    "\n",
    "# pesos\n",
    "w = 80\n",
    "w3 = 40\n",
    "\n",
    "# constantes elasticas\n",
    "k = 1000\n",
    "z = 2000\n",
    "\n",
    "g = 9.81"
   ]
  },
  {
   "cell_type": "code",
   "execution_count": 60,
   "metadata": {},
   "outputs": [],
   "source": [
    "# se inicializan las matrices\n",
    "def matrices():\n",
    "    C = np.zeros((3,1))\n",
    "    A = np.zeros((3,3))\n",
    "    \n",
    "    C[:,:] = g\n",
    "    \n",
    "    m = w/g\n",
    "    m3 = w3/g\n",
    "    \n",
    "    A[0,0]= -k/m - k/m - z/m\n",
    "    A[1,0]= x = -k / m\n",
    "    A[2,0]= x = -z / m3\n",
    "    \n",
    "    A[0,1]=-z/m + k/m\n",
    "    A[1,1]=-z/m + k/m\n",
    "    A[2,1]=k/m3\n",
    "    \n",
    "    \n",
    "    A[0,2]=z/m\n",
    "    A[1,2]=k/m\n",
    "    A[2,2]=-k/m3 + z/m3\n",
    "    return C,A"
   ]
  },
  {
   "cell_type": "markdown",
   "metadata": {},
   "source": [
    "Se obtenienen las matrices, se invierte $A$ y se resuelve:"
   ]
  },
  {
   "cell_type": "code",
   "execution_count": 65,
   "metadata": {},
   "outputs": [
    {
     "name": "stdout",
     "output_type": "stream",
     "text": [
      "La matriz -C:\n",
      "[[9.81]\n",
      " [9.81]\n",
      " [9.81]]\n",
      "\n",
      "La matriz A:\n",
      "[[-490.5   -122.625  245.25 ]\n",
      " [-122.625 -122.625  122.625]\n",
      " [-490.5    245.25   245.25 ]]\n",
      "\n",
      "Su inversa:\n",
      "[[-0.00543663  0.00815494  0.00135916]\n",
      " [-0.00271831  0.          0.00271831]\n",
      " [-0.00815494  0.01630989  0.00407747]]\n",
      "\n",
      "Se resuelve:\n",
      "[[0.04]\n",
      " [0.  ]\n",
      " [0.12]]\n"
     ]
    }
   ],
   "source": [
    "C, A = matrices()\n",
    "print(\"La matriz -C:\")\n",
    "print(C)\n",
    "print()\n",
    "\n",
    "print(\"La matriz A:\")\n",
    "print(A)\n",
    "print()\n",
    "\n",
    "\n",
    "print(\"Su inversa:\")\n",
    "A_inversa = np.linalg.inv(A)\n",
    "print(A_inversa)\n",
    "print()\n",
    "\n",
    "## Se tiene A^-1 * A * X = A^-1 * C\n",
    "\n",
    "print(\"Se resuelve:\")\n",
    "sol = np.matmul(A_inversa, C)\n",
    "\n",
    "print(sol)"
   ]
  },
  {
   "cell_type": "markdown",
   "metadata": {},
   "source": [
    "Así, se tiene los siguientes desplazamientos para cada bloque:\n",
    "\n",
    "$$\n",
    "x_1 = 0.04 [m]\n",
    "$$\n",
    "\n",
    "$$\n",
    "x_2 = 0.0 [m]\n",
    "$$\n",
    "\n",
    "$$\n",
    "x_3 = 0.12 [m]\n",
    "$$\n",
    "\n",
    "\n"
   ]
  }
 ],
 "metadata": {
  "kernelspec": {
   "display_name": "Python 3",
   "language": "python",
   "name": "python3"
  },
  "language_info": {
   "codemirror_mode": {
    "name": "ipython",
    "version": 3
   },
   "file_extension": ".py",
   "mimetype": "text/x-python",
   "name": "python",
   "nbconvert_exporter": "python",
   "pygments_lexer": "ipython3",
   "version": "3.7.3"
  }
 },
 "nbformat": 4,
 "nbformat_minor": 2
}
