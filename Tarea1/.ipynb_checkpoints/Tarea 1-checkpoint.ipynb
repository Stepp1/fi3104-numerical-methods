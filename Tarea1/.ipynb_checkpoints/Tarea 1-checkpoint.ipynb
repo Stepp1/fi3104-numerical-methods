{
 "cells": [
  {
   "cell_type": "code",
   "execution_count": 1,
   "metadata": {},
   "outputs": [],
   "source": [
    "import matplotlib.pyplot as plt\n",
    "import math\n",
    "import numpy as np\n",
    "import sys\n",
    "import sympy as sp\n",
    "from scipy.integrate import quad\n",
    "from decimal import Decimal\n",
    "import time"
   ]
  },
  {
   "cell_type": "markdown",
   "metadata": {},
   "source": [
    "### Métodos Númericos para la Ciencia y la Ingenieria \n",
    "\n",
    "# <u>Tarea 1</u>\n",
    "## Serie Infinita, Interpolación de Lagrange, Método de Bisección, Cálculo de Error\n",
    "\n",
    "\n",
    "### Victor Faraggi"
   ]
  },
  {
   "cell_type": "markdown",
   "metadata": {},
   "source": [
    "### P1: Serie Infinita"
   ]
  },
  {
   "cell_type": "markdown",
   "metadata": {},
   "source": [
    "Este problema consiste en encontrar el número de iteraciones necesarias para que una función que, al ser calculada como una serie infinita, tenga un error relativo menor o igual a $10^{-6}$.\n",
    "\n",
    "Así, en este caso, se estudia la función $Si(t)$. Esta se define de la siguiente manera: \n",
    "\n",
    "$$Si(t) = \\int_a^\\infty \\frac{sin(t)}{t}dt = \\sum_{i=0}^{\\infty} \\frac{(-1)^i x^{2i+1}}{(2i+1)(2i+1)!}$$\n",
    "\n",
    "Luego, se nos pide estudiar para los valores de $x$ siguientes: \n",
    "\n",
    "$$x = 0.1, \\space 1.0, \\space 10.0, \\space 30.0, \\space 100.0$$"
   ]
  },
  {
   "cell_type": "markdown",
   "metadata": {},
   "source": [
    "Se utiliza el paquete *sympy* y *scipy* para calcular valores teóricos de la función:"
   ]
  },
  {
   "cell_type": "code",
   "execution_count": 2,
   "metadata": {
    "scrolled": true
   },
   "outputs": [
    {
     "data": {
      "text/latex": [
       "$\\displaystyle \\operatorname{Si}{\\left(t \\right)}$"
      ],
      "text/plain": [
       "Si(t)"
      ]
     },
     "execution_count": 2,
     "metadata": {},
     "output_type": "execute_result"
    }
   ],
   "source": [
    "t = sp.Symbol('t')\n",
    "sp.integrate(sp.sin(t)/t, t)"
   ]
  },
  {
   "cell_type": "code",
   "execution_count": 3,
   "metadata": {},
   "outputs": [],
   "source": [
    "x = [0.1, 1.0, 10.0, 30.0]\n",
    "\n",
    "def f(t):\n",
    "    return sp.sin(t)/t\n",
    "\n",
    "valTeorico = [quad(f, 0 , 0.1), quad(f, 0 , 1.0), quad(f, 0 , 10.0), \n",
    "      quad(f, 0 , 30.0)]\n",
    "\n",
    "def errorRelativo(teorico, calculado):\n",
    "    return Decimal(1-(Decimal(calculado)/Decimal(teorico[0])))"
   ]
  },
  {
   "cell_type": "markdown",
   "metadata": {},
   "source": [
    "Para encontrar este número de iteraciones se compara el valor teórico y el calculado (por la suma) en cada iteración: sí el error relativo sigue siendo mayor que $10^{-6}$ se hace una iteración más. Si el error es menor o igual, se tiene lo pedido.\n",
    "\n",
    "Esto se traduce a la función siguiente:"
   ]
  },
  {
   "cell_type": "code",
   "execution_count": 4,
   "metadata": {},
   "outputs": [],
   "source": [
    "def numericalF(xValue= [0.1, 1.0, 10.0, 30.0], teorico = valTeorico):\n",
    "    '''\n",
    "    Calcula la serie dada para los valores de xValue.\n",
    "    En cada iteración, se calcula el error relativo con respecto al valor teórico.\n",
    "    Se asume que xValue y teorico siguen el mismo orden.\n",
    "    \n",
    "    :param xValue: set de valores de x\n",
    "    :param teorico: set de valores teoricos para los respectivos valores de x\n",
    "    '''\n",
    "    resX= []\n",
    "    minIter = []\n",
    "    for index, x in enumerate(xValue):\n",
    "        i = 0.0\n",
    "        suma = Decimal(0.0)\n",
    "        error = 10**10\n",
    "        # calculate sum and add another term if error is too high still\n",
    "        while(error >= 10**(-6)):\n",
    "            a = Decimal((-1)**i)\n",
    "            b = Decimal(x**(2*i + 1))\n",
    "            c = Decimal((2*i + 1))\n",
    "            d = Decimal(math.factorial((2*i + 1)))  \n",
    "            \n",
    "            res = Decimal((a * b) / (c * d))\n",
    "            \n",
    "            suma += res\n",
    "            i += 1.0\n",
    "            error = abs(errorRelativo(teorico[index], suma))\n",
    "            \n",
    "        # Number of terms and series result\n",
    "        minIter.append(i)\n",
    "        resX.append(suma)\n",
    "    return resX, minIter\n",
    "\n",
    "resNumeric, numIters = numericalF()"
   ]
  },
  {
   "cell_type": "code",
   "execution_count": 5,
   "metadata": {},
   "outputs": [
    {
     "ename": "OverflowError",
     "evalue": "(34, 'Result too large')",
     "output_type": "error",
     "traceback": [
      "\u001b[0;31m---------------------------------------------------------------------------\u001b[0m",
      "\u001b[0;31mOverflowError\u001b[0m                             Traceback (most recent call last)",
      "\u001b[0;32m<ipython-input-5-bd7a839cb66b>\u001b[0m in \u001b[0;36m<module>\u001b[0;34m\u001b[0m\n\u001b[0;32m----> 1\u001b[0;31m \u001b[0mresNumeric\u001b[0m \u001b[0;34m=\u001b[0m \u001b[0mnumericalF\u001b[0m\u001b[0;34m(\u001b[0m\u001b[0;34m[\u001b[0m\u001b[0;36m100.0\u001b[0m\u001b[0;34m]\u001b[0m\u001b[0;34m,\u001b[0m \u001b[0mvalTeorico\u001b[0m\u001b[0;34m)\u001b[0m\u001b[0;34m\u001b[0m\u001b[0;34m\u001b[0m\u001b[0m\n\u001b[0m",
      "\u001b[0;32m<ipython-input-4-a58615966b40>\u001b[0m in \u001b[0;36mnumericalF\u001b[0;34m(xValue, teorico)\u001b[0m\n\u001b[1;32m     17\u001b[0m         \u001b[0;32mwhile\u001b[0m\u001b[0;34m(\u001b[0m\u001b[0merror\u001b[0m \u001b[0;34m>=\u001b[0m \u001b[0;36m10\u001b[0m\u001b[0;34m**\u001b[0m\u001b[0;34m(\u001b[0m\u001b[0;34m-\u001b[0m\u001b[0;36m6\u001b[0m\u001b[0;34m)\u001b[0m\u001b[0;34m)\u001b[0m\u001b[0;34m:\u001b[0m\u001b[0;34m\u001b[0m\u001b[0;34m\u001b[0m\u001b[0m\n\u001b[1;32m     18\u001b[0m             \u001b[0ma\u001b[0m \u001b[0;34m=\u001b[0m \u001b[0mDecimal\u001b[0m\u001b[0;34m(\u001b[0m\u001b[0;34m(\u001b[0m\u001b[0;34m-\u001b[0m\u001b[0;36m1\u001b[0m\u001b[0;34m)\u001b[0m\u001b[0;34m**\u001b[0m\u001b[0mi\u001b[0m\u001b[0;34m)\u001b[0m\u001b[0;34m\u001b[0m\u001b[0;34m\u001b[0m\u001b[0m\n\u001b[0;32m---> 19\u001b[0;31m             \u001b[0mb\u001b[0m \u001b[0;34m=\u001b[0m \u001b[0mDecimal\u001b[0m\u001b[0;34m(\u001b[0m\u001b[0mx\u001b[0m\u001b[0;34m**\u001b[0m\u001b[0;34m(\u001b[0m\u001b[0;36m2\u001b[0m\u001b[0;34m*\u001b[0m\u001b[0mi\u001b[0m \u001b[0;34m+\u001b[0m \u001b[0;36m1\u001b[0m\u001b[0;34m)\u001b[0m\u001b[0;34m)\u001b[0m\u001b[0;34m\u001b[0m\u001b[0;34m\u001b[0m\u001b[0m\n\u001b[0m\u001b[1;32m     20\u001b[0m             \u001b[0mc\u001b[0m \u001b[0;34m=\u001b[0m \u001b[0mDecimal\u001b[0m\u001b[0;34m(\u001b[0m\u001b[0;34m(\u001b[0m\u001b[0;36m2\u001b[0m\u001b[0;34m*\u001b[0m\u001b[0mi\u001b[0m \u001b[0;34m+\u001b[0m \u001b[0;36m1\u001b[0m\u001b[0;34m)\u001b[0m\u001b[0;34m)\u001b[0m\u001b[0;34m\u001b[0m\u001b[0;34m\u001b[0m\u001b[0m\n\u001b[1;32m     21\u001b[0m             \u001b[0md\u001b[0m \u001b[0;34m=\u001b[0m \u001b[0mDecimal\u001b[0m\u001b[0;34m(\u001b[0m\u001b[0mmath\u001b[0m\u001b[0;34m.\u001b[0m\u001b[0mfactorial\u001b[0m\u001b[0;34m(\u001b[0m\u001b[0;34m(\u001b[0m\u001b[0;36m2\u001b[0m\u001b[0;34m*\u001b[0m\u001b[0mi\u001b[0m \u001b[0;34m+\u001b[0m \u001b[0;36m1\u001b[0m\u001b[0;34m)\u001b[0m\u001b[0;34m)\u001b[0m\u001b[0;34m)\u001b[0m\u001b[0;34m\u001b[0m\u001b[0;34m\u001b[0m\u001b[0m\n",
      "\u001b[0;31mOverflowError\u001b[0m: (34, 'Result too large')"
     ]
    }
   ],
   "source": [
    "resNumeric = numericalF([100.0], valTeorico)"
   ]
  },
  {
   "cell_type": "markdown",
   "metadata": {},
   "source": [
    "Graficamos el numero de terminos, los valores teoricos y calculados con respecto a los diferentes valores de x:"
   ]
  },
  {
   "cell_type": "code",
   "execution_count": 6,
   "metadata": {
    "scrolled": false
   },
   "outputs": [
    {
     "data": {
      "image/png": "[encoded data removed]",
      "text/plain": [
       "<Figure size 432x288 with 2 Axes>"
      ]
     },
     "metadata": {
      "needs_background": "light"
     },
     "output_type": "display_data"
    }
   ],
   "source": [
    "def plotRes1(teorico = valTeorico, resolucion = resNumeric, iteraciones = numIters, valX = x):\n",
    "    # theorical values\n",
    "    valoresTeo = []\n",
    "    for i in teorico:\n",
    "        valoresTeo.append(i[0])\n",
    "        \n",
    "    # plot multiple variables in only one graph\n",
    "    fig, ax1 = plt.subplots()\n",
    "    style = dict(size=10, color='gray')\n",
    "    ax2 = ax1.twinx()\n",
    "    # theoretical and calculated values\n",
    "    ax1.plot(x, valoresTeo, 'b--', x, resNumeric, 'b*')\n",
    "    # number of terms in sum\n",
    "    ax2.plot(x, numIters, 'r*--')\n",
    "    \n",
    "    \n",
    "    # Annotation for number of terms to appear in the graph\n",
    "    for index1, i in enumerate(valX):\n",
    "        for index2,j in enumerate(iteraciones):\n",
    "            if(index1==index2):\n",
    "                plt.annotate(str(j),xy=(i,j),xycoords='data',\n",
    "            bbox=dict(boxstyle=\"round\", fc=\"none\", ec=\"gray\"),\n",
    "            xytext=(40, -5), textcoords='offset points', ha='right',\n",
    "            arrowprops=dict(arrowstyle=\"->\"))\n",
    "                \n",
    "    ax1.set_xlabel('Valores de x')\n",
    "    ax1.set_ylabel('Valores de Si(x)', color='b')\n",
    "    ax2.set_ylabel('Numero de terminos', color='r')\n",
    "    plt.title(\"Valores de Si(x) y numero de terminos con respecto a diferentes valores de x\")\n",
    "    \n",
    "plotRes1()"
   ]
  },
  {
   "cell_type": "markdown",
   "metadata": {},
   "source": [
    "En el gráfico anterior, se puede apreciar que la serie converge de manera correcta para $x=0.1, 1.0, 10.0, 30.0$: \n",
    "\n",
    "&nbsp;&nbsp;&nbsp;&nbsp;&nbsp;&nbsp; Los puntos calculados a partir de esta corresponden a los valores calculados teóricamente mediante el paquete *scipy*. Asímismo, se pueden observar el número de términos que se necesitaron en para cada valor de $x$. Estos varían entre $2$ y $43$ términos.\n",
    "\n",
    "&nbsp;&nbsp;&nbsp;&nbsp;&nbsp;&nbsp; Cabe destacar se debió utilizar el paquete *decimal* para la manipulación de valores muy altos. A pesar de utilizar este paquete, para $x=100.0$ no se puede llegar a una convergencia de la serie antes de que los valores del término $b = x^{(2i + 1)}$ esten fuera del rango de un número *Decimal* del paquete del mismo nombre. Esto demuestra la limitación de utilizar una resolución númerica. \n",
    "\n",
    "\n",
    "&nbsp;&nbsp;&nbsp;&nbsp;&nbsp;&nbsp; Asimismo, esto quiere decir que a grandes rasgos, la serie diverge antes de llegar poder converger ya que de manera práctica el término $b$ equivale a infinito (de manera coloquial, el término se *va a infinito*). Esto se tiene ya que el máximo valor finito de la clase *Decimal* es $9E+999999999999999999$.\n",
    "\n",
    "&nbsp;&nbsp;&nbsp;&nbsp;&nbsp;&nbsp; A modo de anécdota, el último valor de $b$ para $x=100.0$ en la iteración número 75 es:\n",
    "1000000000000000017216064596736454828831087825013238982328892017892380671244575047987920451875459594568606138861698291060311049225532948520696938805711440650122628514669428460356992624968028329550689224175284346730060716088829214255439694630119794546505512415617982143262670862918816362862119154749127262208"
   ]
  },
  {
   "cell_type": "markdown",
   "metadata": {},
   "source": [
    "### P2: Interpolación de Lagrange"
   ]
  },
  {
   "cell_type": "markdown",
   "metadata": {},
   "source": [
    "En este problema se busca estudiar la viscosidad $\\mu_k$ del agua. Esta es una medida de resistencia a deformaciones graduales, o movimiento. De manera informal, la viscosidad de un líquido se relaciona con el espesor de este. Además, esta es necesaria para calcular el *número de Reynolds* que permite conocer si un fluido es laminar, transiente o turbulento. \n",
    "\n",
    "De manera más específica, la viscosidad cinemática está determinada por la razón entre la viscosidad absoluta y la densidad del fluido $\\frac{\\mu}{\\rho}$, donde $\\rho = \\frac{m}{V}$. Por esto último, la viscosidad cinemática relacionada con la temperatura del fluido. \n",
    "\n",
    "Así, se nos presentan los siguientes relaciones: \n",
    "\n",
    "| T($ºC$) | $\\mu_k$($10^{-3} \\frac{m^2}{s}$)|\n",
    "|---------|---------------------------------|\n",
    "| 0       | 1.79                          |\n",
    "| 21.1    | 1.13                          |\n",
    "| 37.8    | 0.696                         |\n",
    "| 54.4    | 0.519                         |\n",
    "| 71.1    | 0.338                         |\n",
    "| 87.8    | 0.321                         |\n",
    "| 100     | 0.296                         |\n",
    "\n",
    "Luego, se nos pide encontrar los valores de $\\mu_k$ para diferentes valores de $T$ usando el método de interpolación de Lagrange.\n",
    "Para este problema, se busca estudiar $T$ = 10$ºC$, 30$ºC$, 60$ºC$ y 90$ºC$\n"
   ]
  },
  {
   "cell_type": "markdown",
   "metadata": {},
   "source": [
    "Primero, se grafican los valores de viscosidad dados:"
   ]
  },
  {
   "cell_type": "code",
   "execution_count": 7,
   "metadata": {},
   "outputs": [
    {
     "data": {
      "image/png": "[encoded data removed]",
      "text/plain": [
       "<Figure size 432x288 with 1 Axes>"
      ]
     },
     "metadata": {
      "needs_background": "light"
     },
     "output_type": "display_data"
    }
   ],
   "source": [
    "datosX = [0, 21.1 , 37.8, 54.4, 71.1, 87.8, 100]\n",
    "datosY = [1.79, 1.13, 0.696, 0.519, 0.338, 0.321, 0.296]\n",
    "valores = [10, 30, 60, 90]\n",
    "\n",
    "def plotExample(x, y):\n",
    "    plt.plot(x ,y , 'bo--')\n",
    "    plt.xlabel(\"Temperatura\")\n",
    "    plt.ylabel(\"Viscosidad Conocida\")\n",
    "    plt.title(\"Valores de Viscosidad del Agua con respecto a la Temperatura\")\n",
    "    plt.show\n",
    "    \n",
    "plotExample(datosX, datosY)"
   ]
  },
  {
   "cell_type": "markdown",
   "metadata": {},
   "source": [
    "Luego, se define el método de interpolación de Lagrange:"
   ]
  },
  {
   "cell_type": "code",
   "execution_count": 8,
   "metadata": {},
   "outputs": [],
   "source": [
    "def interpolacion(x, valX, valY):\n",
    "    '''\n",
    "    Interpola valores f(x_i) para todos los valores en x \n",
    "    con respecto a valX y valY dados.\n",
    "    \n",
    "    :param x: valores x_i desde los que se pretende interpolar f(x_i) \n",
    "    :param valX: valores de x dados\n",
    "    :param valY: valores y = f(x) dados\n",
    "    '''\n",
    "    \n",
    "    # Error checking\n",
    "    if(len(valX) != len(valY)):\n",
    "        print(\"No se tiene la misma cantidad de valores en x\" \n",
    "              + \"que valores en y\")\n",
    "        return None\n",
    "    \n",
    "    for i in valX:\n",
    "        twice = 0\n",
    "        if(i in valX):\n",
    "            twice += 1\n",
    "        if(twice >= 2):\n",
    "            print(\"Se tienen dos valores de x iguales\")\n",
    "            return None\n",
    "    \n",
    "    # Interpolation\n",
    "    resultado = 0\n",
    "    n = len(valX)\n",
    "    for i in range(n):\n",
    "        L = 1\n",
    "        for j in range(n):\n",
    "            if(i == j):\n",
    "                continue\n",
    "            L *= float(x - valX[j])/float(valX[i] - valX[j])\n",
    "                \n",
    "        resultado += L*valY[i]\n",
    "        \n",
    "    \n",
    "    return resultado"
   ]
  },
  {
   "cell_type": "markdown",
   "metadata": {},
   "source": [
    "La interpolación consiste en obtener nuevos datos a partir de un conjunto discreto de datos conocidos. En este caso, se busca conocer nuevos valores de viscosidad.\n",
    "\n",
    "De manera particular, la interpolación de Lagrange se define por la siguiente formula: \n",
    "\n",
    "$$ f(x) = \\frac{(x - x_2)(x - x_3)...(x - x_n)}{(x_1 - x_2)(x_1 - x_3) ...(x_1 - x_n)} \\cdot y_1 \\space ... \\space \\frac{(x - x_1)(x - x_2)...(x - x_{n-1})}{(x_n - x_1)(x_n - x_2) ...(x_n - x_{n-1})}\\cdot y_n$$\n",
    "\n",
    "\n",
    "En la función interpolacion anterior, $L$ corresponde a cada término que multiplica a cada $y_i$.\n",
    "\n",
    "Finalmente, se gráfican los valores interpolados y los valores conocidos para estudiar los resultados."
   ]
  },
  {
   "cell_type": "code",
   "execution_count": 9,
   "metadata": {
    "scrolled": true
   },
   "outputs": [
    {
     "data": {
      "image/png": "[encoded data removed]",
      "text/plain": [
       "<Figure size 432x288 with 2 Axes>"
      ]
     },
     "metadata": {
      "needs_background": "light"
     },
     "output_type": "display_data"
    }
   ],
   "source": [
    "res= []\n",
    "for val in (valores):\n",
    "    res.append(interpolacion(val, datosX, datosY))\n",
    "\n",
    "def plotRes(x, y):\n",
    "    fig, ax1 = plt.subplots()\n",
    "\n",
    "    ax2 = ax1.twinx()\n",
    "    ax1.plot(datosX, datosY, 'bo--')\n",
    "    ax2.plot(x, y, 'r*')\n",
    "\n",
    "    ax1.set_xlabel('Temperatura')\n",
    "    ax1.set_ylabel('Viscosidad Conocida', color='b')\n",
    "    ax2.set_ylabel('Viscosidad Calculada', color='r')\n",
    "    plt.title(\"Valores de Viscosidad del Agua con respecto a la Temperatura\")\n",
    "    \n",
    "    plt.show\n",
    "    \n",
    "plotRes(valores, res)"
   ]
  },
  {
   "cell_type": "markdown",
   "metadata": {},
   "source": [
    "En el gráfico anterior se puede observar los valores de $\\mu_k$ calculados a partir del método de interpolación de Lagrange sobre los valores conocidos.\n",
    "\n",
    "Se puede observar a grandes rasgos los valores calculados parecen estar dentro de lo correcto. Esto se debe a que los valores interpolados están en su mayoría sobre la curva que pasa por los valores conocidos. \n",
    "\n",
    "El primer valor calculado para $T=10ºC$ es el que parece tener el error de cálculo más alto. Esto se puede deber a que está a 10 unidades de los dos puntos más cercanos ( $T= 0ºC$ y $T= 21.1ºC$ ), mientras que el resto de los valores interpolados son mucho más cercanos a los conocidos. Esto genera un valor interpolado con un mayor error. El resto de los valores, al ser más cercanos a los conocidos tienen un error mucho más aceptable. "
   ]
  },
  {
   "cell_type": "markdown",
   "metadata": {},
   "source": [
    "### P3: Método de Bisección"
   ]
  },
  {
   "cell_type": "markdown",
   "metadata": {},
   "source": [
    "En este problema se busca encontrar las raíces de la función siguiente: \n",
    " \n",
    "$$f(x)= sin(x) + 3cos(x)-2$$\n",
    "\n",
    "Al tener componentes trigonométricos, se puede intuir que está función tiene multiples raíces. Así, en esta ocasión, se busca $f(x) = 0$ en el rango $(-2, 2)$.\n",
    "\n",
    "Para encontrar las raíces se pide utilizar el método de bisección. Este método consiste en biseccionar repetidamente el intervalo definido. Luego, se selecciona el subintervalo en el cuál la función cambia de signo. Es decir, el subintervalo que debe contener una raíz."
   ]
  },
  {
   "cell_type": "markdown",
   "metadata": {},
   "source": [
    "Primero, se define la función, el intervalo y diferentes tolerancias."
   ]
  },
  {
   "cell_type": "code",
   "execution_count": 10,
   "metadata": {},
   "outputs": [],
   "source": [
    "def funcion(x):\n",
    "    return math.sin(x) + 3*math.cos(x) - 2\n",
    "\n",
    "interval = [-2,2]\n",
    "\n",
    "tolerancia = [pow(10,-2), pow(10,-3), pow(10,-4), pow(10,-5), \n",
    "              pow(10,-6), pow(10,-7), pow(10,-8), pow(10,-9), pow(10,-20)]"
   ]
  },
  {
   "cell_type": "markdown",
   "metadata": {},
   "source": [
    "Ahora, se define el método de bisección:"
   ]
  },
  {
   "cell_type": "code",
   "execution_count": 11,
   "metadata": {},
   "outputs": [
    {
     "name": "stdout",
     "output_type": "stream",
     "text": [
      "Esta iteración tomó 4.887580871582031e-05 segundos\n",
      "Esta iteración tomó 4.291534423828125e-05 segundos\n",
      "Esta iteración tomó 5.078315734863281e-05 segundos\n",
      "Esta iteración tomó 7.081031799316406e-05 segundos\n",
      "Esta iteración tomó 9.179115295410156e-05 segundos\n",
      "Esta iteración tomó 8.392333984375e-05 segundos\n",
      "Esta iteración tomó 0.00010609626770019531 segundos\n",
      "Esta iteración tomó 9.965896606445312e-05 segundos\n",
      "Esta iteración tomó 0.0001690387725830078 segundos\n",
      "\n"
     ]
    },
    {
     "data": {
      "image/png": "[encoded data removed]",
      "text/plain": [
       "<Figure size 432x288 with 1 Axes>"
      ]
     },
     "metadata": {
      "needs_background": "light"
     },
     "output_type": "display_data"
    }
   ],
   "source": [
    "def bisection(f= funcion, valores= interval, tol= tolerancia, nMax= pow(10,100)):\n",
    "    '''\n",
    "    Encuentra la raíz de la función en el rango dado por valores\n",
    "    Se toma en cuenta la tolerancia dada y el número de iteraciones máximo.\n",
    "    \n",
    "    :param f: funcion en la que se busca una raiz\n",
    "    :param valores: lista de dos valores que equivale al rango donde se busca raiz\n",
    "    :param tol: lista con diferentes valores de tolerancia \n",
    "    :param nMax: numero maximo de iteraciones\n",
    "    '''\n",
    "    \n",
    "    # Posibility of unordered interval\n",
    "    if(valores[0] > valores[1]):\n",
    "        a = valores[1]\n",
    "        b = valores[0]\n",
    "    else:\n",
    "        a = valores[0]\n",
    "        b = valores[1]\n",
    "        \n",
    "    \n",
    "    resultados = []\n",
    "    \n",
    "    def res(f, tol, nMax, a, b):\n",
    "        '''\n",
    "        Calculo de las raíces de f para una tolerancia dada en el rango [a,b]\n",
    "        \n",
    "        :param f: funcion en la que se busca una rai<\n",
    "        :param tol: valor de tolerancia \n",
    "        :param nMax: numero maximo de iteraciones\n",
    "        :param a: minimo del rango\n",
    "        :param b: maximo del rango\n",
    "        '''\n",
    "        n = 0\n",
    "        start= time.time()\n",
    "        while(n < nMax):\n",
    "            c = float((a + b))/float(2)\n",
    "            # If f(c) = 0 we have a root, if ((b - a)/2) < tol then we meet a stopping criteria\n",
    "            if(f(c) == 0 or ((b - a)/2) < tol):\n",
    "                valor = [c,n]\n",
    "                end = time.time()\n",
    "                print(\"Esta iteración tomó \" + str((end - start)) + \" segundos\")\n",
    "                return valor\n",
    "            \n",
    "            # else, do another subinterval\n",
    "            n += 1\n",
    "            \n",
    "            # new interval\n",
    "            if(np.sign(f(c)) == np.sign(f(a))):\n",
    "                a = c\n",
    "            else:\n",
    "                b = c\n",
    "        # No root was found\n",
    "        print(\"Error en el método\")\n",
    "        return None \n",
    "        \n",
    "    for i in tol:\n",
    "        resultados.append(res(f, i, nMax, a, b))\n",
    "    return resultados\n",
    "        \n",
    "        \n",
    "calculos = []\n",
    "calculos.append(bisection())\n",
    "print(\"\")\n",
    "\n",
    "def plotResC(res = calculos, tol = tolerancia):\n",
    "    valoresC = []\n",
    "    for i in calculos: \n",
    "        for par in i:\n",
    "            valoresC.append(par[0])\n",
    "            \n",
    "    plt.plot(tolerancia, valoresC, '*--')\n",
    "    plt.xlabel(\"Tolerancia\")\n",
    "    plt.ylabel(\"Valores de c\")\n",
    "    plt.show()\n",
    "    \n",
    "plotResC()"
   ]
  },
  {
   "cell_type": "markdown",
   "metadata": {},
   "source": [
    "Finalmente, se grafica el número de iteraciones con respecto a la tolerancia aceptada"
   ]
  },
  {
   "cell_type": "code",
   "execution_count": 12,
   "metadata": {},
   "outputs": [
    {
     "data": {
      "image/png": "[encoded data removed]",
      "text/plain": [
       "<Figure size 432x288 with 1 Axes>"
      ]
     },
     "metadata": {
      "needs_background": "light"
     },
     "output_type": "display_data"
    }
   ],
   "source": [
    "def plotRes(res, tol):\n",
    "    iteraciones = []\n",
    "    for i in res:\n",
    "        for par in i:\n",
    "            iteraciones.append(par[1])\n",
    "            \n",
    "    plt.plot(tol, iteraciones, 'b*--')\n",
    "    plt.ylim(0, iteraciones[-1] + 3)\n",
    "    \n",
    "    for index1, i in enumerate(tol):\n",
    "        for index2,j in enumerate(iteraciones):\n",
    "            if(index1==index2):\n",
    "                plt.annotate(str(j),xy=(i,j+0.6))\n",
    "    plt.xlabel(\"Tolerancia\")\n",
    "    plt.ylabel(\"Iteraciones\")\n",
    "    plt.show\n",
    "    return\n",
    "\n",
    "plotRes(calculos, tolerancia)"
   ]
  },
  {
   "cell_type": "markdown",
   "metadata": {},
   "source": [
    "En primer lugar, se puede afirmar que el método de bisección logra encontrar el valor $f(c) \\approx 0$ tal que el intervalo de interés sea menor a la tolerancia. En ningún caso, el método logra encontrar el valor exacto tal que $f(c) = 0$. \n",
    "\n",
    "Asimismo, se puede observar que la relación entre número de iteraciones y tolerancia es inversamente proporcional. Sin embargo, el número de iteraciones es aceptable incluso para un tolerancia de $\\epsilon = 10^{-10}$ con $35$ iteraciones y con un tiempo de ejecución de $0.0001879$ segundos.\n",
    "\n",
    "Cabe destacar que se usó como criterio de finalización que el largo del intervalo de interés fuera menor a la tolerancia, $\\frac{b-a}{2} < \\epsilon$. Esto fue de esta manera ya que anteriormente se tomaron en cuenta otros como $|f(c) < \\epsilon|$ y $|\\frac{c_{k-1 - c_k}}{c_k}| < \\epsilon$, pero ambos arrojaron resultados más inexactos con respecto al valor de $f(c)\\approx 0$. Asimismo, sobre el valor de $c$, se puede observar que el resultado se queda converge en $c \\approx -0.5645$."
   ]
  },
  {
   "cell_type": "markdown",
   "metadata": {},
   "source": [
    "### P4:  Cálculo de Error"
   ]
  },
  {
   "cell_type": "markdown",
   "metadata": {},
   "source": [
    "En este último problema, busca estudiar la dependencia del error para la expresión aproximada de la primera derivada con el paso $\\Delta x$. Así, se define la función a estudiar y su derivada exacta conocida como: \n",
    "\n",
    "$$f(x) = sin(x), \\quad f'(x)= cos(x)$$\n",
    "\n",
    "Asimismo, el error se define como: \n",
    "\n",
    "$$error = | \\lbrack \\frac{f(x + \\Delta x) - f(x)}{\\Delta x} \\rbrack  - f'(x)|$$\n",
    "\n",
    "Para $\\Delta x$ se utiliza: $$\\Delta x = 10^{−n}, \\space n = 0,1,2,3,....$$\n",
    "\n",
    "Finalmente, el valor de $x$ evaluado esta definido como:\n",
    "\n",
    "$$x= 2.RRR, \\space RRR=315$$\n",
    "\n",
    "Donde $RRR$ son los últimos 3 dígitos de mi RUT."
   ]
  },
  {
   "cell_type": "code",
   "execution_count": 13,
   "metadata": {
    "scrolled": false
   },
   "outputs": [
    {
     "data": {
      "image/png": "[encoded data removed]",
      "text/plain": [
       "<Figure size 432x288 with 1 Axes>"
      ]
     },
     "metadata": {
      "needs_background": "light"
     },
     "output_type": "display_data"
    }
   ],
   "source": [
    "def f(x):\n",
    "    return math.sin(x)\n",
    "\n",
    "def fPrima(x):\n",
    "    return math.cos(x)\n",
    "\n",
    "n = np.arange(0,10^6)\n",
    "\n",
    "def deltaX(n):\n",
    "    return float(10**(-float(n)))\n",
    "                 \n",
    "def error(f, fPrima, n, deltaX):\n",
    "    '''\n",
    "    Calcula el error de la primera derivada, fPrima, de la función f.\n",
    "    Se utilizan diferentes valores de deltaX, 10^-n, que se calculan para diferentes valores de n.\n",
    "    '''\n",
    "    x = 2.315\n",
    "    calculo = []\n",
    "    for i in n:\n",
    "        delta = deltaX(i)\n",
    "        valor = abs(((f(x + delta) - f(x))/delta) - fPrima(x))\n",
    "        calculo.append(valor)\n",
    "        \n",
    "    return calculo\n",
    "\n",
    "def plotFinalRes(deltaX, n, calculo):\n",
    "    valoresX = []\n",
    "    for i in n:\n",
    "        #if (i == maxN):\n",
    "        #    break\n",
    "        delta = deltaX(i)\n",
    "        valoresX.append(delta)\n",
    "    \n",
    "    plt.loglog(valoresX, calculo)\n",
    "    plt.title(\"Error de la primera derivada en funcion de ∆x\")\n",
    "    plt.xlabel(\"∆x = 10^(−n), n = 0, 1, 2 ...\")\n",
    "    plt.ylabel(\"Error de la primera derivada\")\n",
    "    plt.show\n",
    "    \n",
    "\n",
    "valor = error(f, fPrima, n, deltaX)   \n",
    "\n",
    "plotFinalRes(deltaX, n, valor) "
   ]
  },
  {
   "cell_type": "markdown",
   "metadata": {},
   "source": [
    "Como se puede apreciar en el gráfico anterior, a menor $\\Delta x$ se tiene un menor error de la primera derivada. Esto es intuitivo ya que una derivada representa un cambio diferencial $\\delta x$ en una función $f(x)$. Así, a un menor $\\Delta x$, el cálculo de la derivada de manera discreta dado debe ser más preciso. Es decir, se asemeja cada vez más a su derivada exacta conocida.\n",
    " \n",
    "Esto es cierto de manera casi lineal hasta $\\Delta x = 10^{-8}$ donde el error empieza a aumentar progresivamente. Esto se debe a que para calcular la derivada discreta se utiliza la *diferencia posterior o adelantada* y a un $\\Delta x$ muy pequeño.\n",
    "\n",
    "1. El método de diferencia posterior tiene un error de O($\\Delta x$) intrínseco al método mismo. A la vez, este método tiene un error de asimetría ya que los puntos utilizados para calcular $f'(x)$ están en un *mismo lado* de la derivada buscada.\n",
    "\n",
    "2. Un $\\Delta x$ muy pequeño induce a un error de redondeo intrínseco al lenguaje utilizado. Así, si uno asume un error de redondeo de $\\epsilon$, entonces se tiene que el error de redondeo de la fórmula utilizada es de $\\frac{2 \\epsilon}{\\Delta x}$. Por esto, se tiene que a un menor $\\Delta x$, el error de redondeo aumenta.\n",
    "\n",
    "Por estos dos últimos puntos se pueden hacer dos recomendaciones: \n",
    "* Usar el método de diferencias centradas que tiene un error de O($(\\Delta x)^2$)\n",
    "* Computar el error teniendo en cuenta el error de redondeo. Se propone así, la siguiente fórmula:\n",
    "\n",
    "$$ E = error + \\frac{2 \\epsilon}{\\Delta x}$$"
   ]
  }
 ],
 "metadata": {
  "kernelspec": {
   "display_name": "Python 3",
   "language": "python",
   "name": "python3"
  },
  "language_info": {
   "codemirror_mode": {
    "name": "ipython",
    "version": 3
   },
   "file_extension": ".py",
   "mimetype": "text/x-python",
   "name": "python",
   "nbconvert_exporter": "python",
   "pygments_lexer": "ipython3",
   "version": "3.7.3"
  }
 },
 "nbformat": 4,
 "nbformat_minor": 2
}
