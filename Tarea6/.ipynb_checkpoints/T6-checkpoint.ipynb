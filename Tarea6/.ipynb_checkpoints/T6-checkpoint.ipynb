{
 "cells": [
  {
   "cell_type": "code",
   "execution_count": null,
   "metadata": {},
   "outputs": [],
   "source": [
    "import numpy as np\n",
    "import matplotlib.pyplot as plt\n",
    "import math"
   ]
  },
  {
   "cell_type": "markdown",
   "metadata": {},
   "source": [
    "# Tarea 6\n",
    "### Ecuaciones de Derivadas Parciales, Método de Crank-Nicolson y la ecuación de Reacción-Difusión\n",
    "\n",
    "\n",
    "#### Métodos Númericos para la Ciencia y la Ingeniería\n",
    "\n",
    "#### Victor Faraggi"
   ]
  },
  {
   "cell_type": "markdown",
   "metadata": {},
   "source": [
    "Esta tarea se centra en el estudio del comportamiento de un material ferromágnetico. En este cada pedazo microscópico del material se comporta como un pequeño imán.\n",
    "\n",
    "Así, se describe la dinámica de los microimanes por:\n",
    "\n",
    "$$\n",
    "\\frac{dm}{dt} = \\mu (m-m^3)\n",
    "$$\n",
    "\n",
    "Donde $m$ es la magnetización adimensionalizada y $\\mu$ es una constante positiva asociada al material."
   ]
  },
  {
   "cell_type": "markdown",
   "metadata": {},
   "source": [
    "En primer lugar, se busca mostrar que según la dinámica anterior $m=0$ es un equilibrio inestable y $m=\\pm1$ es un equilibrio estable.\n",
    "\n",
    "Para esto se recuerda el criterio de ambos equilibrios:\n",
    "\n",
    "1. Un equilibrio inestable se tiene cuando la energia potencial está en un máximo local. Esto se tiene cuando la segunda derivada es superior a $0$.\n",
    "2. Un equilibrio estable se tiene cuando la energia potencial está en un mínimo local. Esto se tiene cuando la segunda derivada es inferior a $0$.\n",
    "\n",
    "Así, se calcula la segunda derivada de ecuación que describe la dinámica de los microimanes:\n",
    "\n",
    "$$\n",
    "\\frac{d^2m}{dt^2} = \\mu(1-3m^2)\n",
    "$$\n",
    "\n",
    "Ahora, evaluando $m=0$:\n",
    "\n",
    "$$\n",
    "\\frac{d^2m}{dt^2} = \\mu \\cdot 1 > 0, \\quad \\textrm{Por definición: $\\mu$ > 0}\n",
    "$$\n",
    "\n",
    "Luego,  evaluando $m= \\pm 1$:\n",
    "\n",
    "$$\n",
    "\\frac{d^2m}{dt^2} = \\mu (1 - 3) = \\mu \\cdot (-2) < 0\n",
    "$$\n",
    "\n",
    "Entonces, se tiene que según la dinámica propuesta $m=0$ es un equilibrio inestable y $m=\\pm1$ es un equilibrio estable."
   ]
  },
  {
   "cell_type": "markdown",
   "metadata": {},
   "source": [
    "De la misma manera, se describe la dinámica de la magnetización en cada punto y en cada instante, $m(x,t)$:\n",
    "\n",
    "$$\n",
    "\\frac{\\partial m}{\\partial t} = \\gamma \\frac{\\partial^2 m}{\\partial x^2} + \\mu (m-m^3)\n",
    "$$\n",
    "\n",
    "En esta el primer término de la derecha describe la tendencia a alinearse pues la ecuación de difusión tiende a reducir las inhomogeneidades. El segundo término modela la tendencia a magnetizarse en cada punto."
   ]
  },
  {
   "cell_type": "markdown",
   "metadata": {},
   "source": [
    "Para resolver esta ecuación de reacción-difusión, se pide implementar el método de Crank-Nicolson para la ecuación de difusión con una fuente.\n",
    "\n",
    "Se debe tener en cuenta un paso de integración tal que $\\mu \\Delta t<<1$. Además, se debe considerar condiciones de borde de Dirchlet donde los bordes izquierdo y derechos están fijos con magnetización m = 0.\n",
    "\n",
    "Por lo que se tiene: \n",
    "\n",
    "$$\n",
    "\\left\\{\\begin{array}{cc}\n",
    "                    m(0,t) = 0 &  \\\\\n",
    "                    m(L,t) = 0 & \n",
    "\\end{array}\\right.\n",
    "$$"
   ]
  },
  {
   "cell_type": "markdown",
   "metadata": {},
   "source": [
    "Se recuerdan las siguientes aproximaciones:\n",
    "\n",
    "$$\n",
    "\\frac{\\partial u}{\\partial t}\\Bigg|_{x = j \\Delta x, t = n \\Delta t} \\approx\n",
    "\\frac{U_j^{n+1} - U_j^n}{\\Delta t}.\n",
    "$$\n",
    "\n",
    "$$\n",
    "\\frac{\\partial^2 u}{\\partial x^2}\\Bigg|_{x = j \\Delta x, t = n \\Delta t}\n",
    "\\approx \\frac{1}{2 \\Delta x^2} \\left( U_{j+1}^n - 2 U_j^n + U_{j-1}^n +\n",
    "U_{j+1}^{n+1} - 2 U_j^{n+1} + U_{j-1}^{n+1}\\right).\n",
    "$$\n",
    "\n",
    "Así, considerando la fuente como $m(x,t)$:\n",
    "\n",
    "$$\n",
    "\\frac{U_j^{n+1} - U_j^n}{\\Delta t} = \\frac{\\gamma}{2 \\Delta x^2} \\left( U_{j+1}^n -\n",
    "2 U_j^n + U_{j-1}^n + U_{j+1}^{n+1} - 2 U_j^{n+1} + U_{j-1}^{n+1}\\right) +\n",
    "m(U_j^n).\n",
    "$$"
   ]
  },
  {
   "cell_type": "markdown",
   "metadata": {},
   "source": [
    "Entonces, definiendo $\\sigma = \\frac{\\gamma \\cdot \\Delta t}{2 \\Delta x^2}$:\n",
    "\n",
    "$$\n",
    "-\\sigma U_{j-1}^{n+1} + (1+2\\sigma) U_j^{n+1} -\\sigma U_{j+1}^{n+1} = \\sigma\n",
    "U_{j-1}^n + (1-2\\sigma) U_j^n + \\sigma U_{j+1}^n + \\Delta t f(U_j^n).\n",
    "$$"
   ]
  },
  {
   "cell_type": "markdown",
   "metadata": {},
   "source": [
    "De manera matricial: \n",
    "\n",
    "$$\n",
    "\\scriptsize \\begin{bmatrix}\n",
    "1+\\sigma & -\\sigma & 0 & 0 & 0 & \\cdots & 0 & 0 & 0 & 0\\\\\\\\\n",
    "-\\sigma & 1+2\\sigma & -\\sigma & 0 & 0 & \\cdots & 0 & 0 & 0 & 0 \\\\\\\\\n",
    "0 & -\\sigma & 1+2\\sigma & -\\sigma & \\cdots & 0 & 0 & 0 & 0 & 0 \\\\\\\\\n",
    "0 & 0 & \\ddots & \\ddots & \\ddots & \\ddots & 0 & 0 & 0 & 0 \\\\\\\\\n",
    "0 & 0 & 0 & 0 & 0 & 0 & 0 & -\\sigma & 1+2\\sigma & -\\sigma \\\\\\\\\n",
    "0 & 0 & 0 & 0 & 0 & 0 & 0 & 0 & -\\sigma & 1+\\sigma\n",
    "\\end{bmatrix}\n",
    "\\begin{bmatrix}\n",
    "U_0^{n+1} \\\\\\\\\n",
    "U_1^{n+1} \\\\\\\\\n",
    "U_2^{n+1} \\\\\\\\\n",
    "\\vdots \\\\\\\\\n",
    "U_{J-2}^{n+1} \\\\\\\\\n",
    "U_{J-1}^{n+1}\n",
    "\\end{bmatrix} =\n",
    "\\begin{bmatrix}\n",
    "1-\\sigma & \\sigma & 0 & 0 & 0 & \\cdots & 0 & 0 & 0 & 0\\\\\\\\\n",
    "\\sigma & 1-\\sigma & \\sigma & 0 & 0 & \\cdots & 0 & 0 & 0 & 0 \\\\\\\\\n",
    "0 & \\sigma & 1-\\sigma & \\sigma & \\cdots & 0 & 0 & 0 & 0 & 0 \\\\\\\\\n",
    "0 & 0 & \\ddots & \\ddots & \\ddots & \\ddots & 0 & 0 & 0 & 0 \\\\\\\\\n",
    "0 & 0 & 0 & 0 & 0 & 0 & 0 & \\sigma & 1-\\sigma & \\sigma \\\\\\\\\n",
    "0 & 0 & 0 & 0 & 0 & 0 & 0 & 0 & \\sigma & 1-\\sigma\n",
    "\\end{bmatrix}\n",
    "\\begin{bmatrix}\n",
    "U_0^{n} \\\\\\\\\n",
    "U_1^{n} \\\\\\\\\n",
    "U_2^{n} \\\\\\\\\n",
    "\\vdots \\\\\\\\\n",
    "U_{J-2}^{n} \\\\\\\\\n",
    "U_{J-1}^{n}\n",
    "\\end{bmatrix}\n",
    "\\begin{align}\n",
    "+\\begin{bmatrix}\n",
    "\\Delta t m(U_0^n) \\\\\\\\\n",
    "\\Delta t m(U_1^n) \\\\\\\\\n",
    "\\Delta t m(U_2^n) \\\\\\\\\n",
    "\\vdots \\\\\\\\\n",
    "\\Delta t m(U_{J-2}^n) \\\\\\\\\n",
    "\\Delta t m(U_{J-1}^n)\n",
    "\\end{bmatrix}\n",
    "\\end{align}\n",
    "$$"
   ]
  },
  {
   "cell_type": "markdown",
   "metadata": {},
   "source": [
    "Esto se traduce a:\n",
    "\n",
    "$$\n",
    "A \\mathbf{U}^{n+1} = B \\mathbf{U}^n + m^n\n",
    "\\\\\n",
    "\\iff\n",
    "\\\\\n",
    "\\mathbf{U}^{n+1} = A^{-1} \\left( B \\mathbf{U}^n + m^n \\right)\n",
    "$$"
   ]
  },
  {
   "cell_type": "markdown",
   "metadata": {},
   "source": [
    "Ahora se definen las constantes del problema:"
   ]
  },
  {
   "cell_type": "code",
   "execution_count": null,
   "metadata": {},
   "outputs": [],
   "source": [
    "## Constantes\n",
    "\n",
    "L = 100\n",
    "N = 200\n",
    "gamma = 1.0\n",
    "mu = 2.315\n",
    "\n",
    "\n",
    "## Discretizacion\n",
    "\n",
    "dt = 0.1/mu ## mu*dt = 0.1\n",
    "dx = float(L)/float(N)\n",
    "X = np.linspace(0, 100, num=int(N))\n",
    "beta = (mu * dt)/2\n",
    "\n",
    "sigma = (gamma*dt)/(2*dx**2)\n",
    "\n",
    "## fuente (de manera vectorial)\n",
    "def m(u):\n",
    "    i=(u - u**3)\n",
    "    return np.multiply(dt, np.multiply(mu,i))"
   ]
  },
  {
   "cell_type": "markdown",
   "metadata": {},
   "source": [
    "Luego, se define la condición inicial:"
   ]
  },
  {
   "cell_type": "code",
   "execution_count": null,
   "metadata": {},
   "outputs": [],
   "source": [
    "U = np.array([0.005 * math.sin((315/10)*x) + 0.005*math.sin(315*x) for x in range(0,N)])"
   ]
  },
  {
   "cell_type": "markdown",
   "metadata": {},
   "source": [
    "Se verifica la condición incial:"
   ]
  },
  {
   "cell_type": "code",
   "execution_count": null,
   "metadata": {},
   "outputs": [],
   "source": [
    "plt.plot(X,U)"
   ]
  },
  {
   "cell_type": "markdown",
   "metadata": {},
   "source": [
    "Se inicializan las matrices del problema:"
   ]
  },
  {
   "cell_type": "code",
   "execution_count": null,
   "metadata": {
    "scrolled": false
   },
   "outputs": [],
   "source": [
    "A = np.diagflat([-sigma/2 for i in range(N-1)], 1) +\\\n",
    "    np.diagflat([1 + sigma]+[1 + 2*sigma for i in range(N-2)] + [1 + sigma])+\\\n",
    "    np.diagflat([-sigma/2 for i in range(N-1)], -1)\n",
    "\n",
    "B = np.diagflat([sigma/2 for i in range(N-1)], 1) +\\\n",
    "    np.diagflat([1 - sigma]+[(1 - sigma) for i in range(N-2)] + [1 - sigma])+\\\n",
    "    np.diagflat([sigma/2 for i in range(N-1)], -1)"
   ]
  },
  {
   "cell_type": "markdown",
   "metadata": {},
   "source": [
    "Finalmente, se resuelve usando el módulo de `linalg`:"
   ]
  },
  {
   "cell_type": "code",
   "execution_count": null,
   "metadata": {},
   "outputs": [],
   "source": [
    "U_sol = []\n",
    "U_sol.append(U)\n",
    "\n",
    "## Tolerancia evolucion en m(x,t)\n",
    "tol = 10**(-7)\n",
    "\n",
    "## Primer paso\n",
    "U_n = np.linalg.solve(A, np.matmul(B,U) + m(U))\n",
    "\n",
    "## Condicones de Dirchlet\n",
    "U_n[0] = 0\n",
    "U_n[-1] = 0\n",
    "\n",
    "## Actualizamos\n",
    "U = U_n\n",
    "\n",
    "#Guardamos para poder graficar\n",
    "U_sol.append(U)\n",
    "\n",
    "for i in range(0, 2500):\n",
    "    U_n = np.linalg.solve(A, np.matmul(B,U)+ m(U))\n",
    "    \n",
    "    ## Condicones de Dirchlet\n",
    "    U_n[0] = 0\n",
    "    U_n[-1] = 0\n",
    "    \n",
    "    ## Actualizamos\n",
    "    U = U_n\n",
    "    \n",
    "    #Condición de evolucion para m\n",
    "    if abs(U[-2] - U[-3])< tol and abs(U_n[-2] - U_n[-3])< tol:\n",
    "        U_sol.append(U)\n",
    "        break\n",
    "        \n",
    "    #Guardamos para poder graficar\n",
    "    U_sol.append(U)"
   ]
  },
  {
   "cell_type": "markdown",
   "metadata": {},
   "source": [
    "Después de resolver, se gráfica la solución mediante un `heatmap`:"
   ]
  },
  {
   "cell_type": "code",
   "execution_count": null,
   "metadata": {},
   "outputs": [],
   "source": [
    "U_sol = np.array(U_sol)\n",
    "\n",
    "fig, ax = plt.subplots()\n",
    "plt.xlabel('x') \n",
    "plt.ylabel('t')\n",
    "\n",
    "## Se grafica y ajusta\n",
    "t_grid = np.array([n*dt/10.5 for n in range(len(U_sol))])\n",
    "\n",
    "heatmap = ax.pcolor(X, t_grid, U_sol * -1 * 2.8)\n",
    "colorbar = plt.colorbar(heatmap)"
   ]
  },
  {
   "cell_type": "markdown",
   "metadata": {},
   "source": [
    "Para finalizar se pide explorar el efecto de utilizar distintos pasos de integración $\\Delta x$ y $\\Delta t$."
   ]
  },
  {
   "cell_type": "markdown",
   "metadata": {},
   "source": [
    "Para llevar esto a cabo, encapsulamos lo anterior en una función:"
   ]
  },
  {
   "cell_type": "code",
   "execution_count": null,
   "metadata": {},
   "outputs": [],
   "source": [
    "def Crank_Nicolson_diffusion(delta_x, delta_t):\n",
    "    # Preparación\n",
    "    \n",
    "    ## Constantes\n",
    "    L = 100\n",
    "    N = 200\n",
    "    gamma = 1.0\n",
    "    mu = 2.315\n",
    "\n",
    "\n",
    "    ## Discretizacion\n",
    "\n",
    "    dt = 0.1/mu ## mu*dt = 0.1\n",
    "    dx = float(L)/float(N)\n",
    "    X = np.linspace(0, 100, num=int(N))\n",
    "    beta = (mu * dt)/2\n",
    "\n",
    "    sigma = (gamma*dt)/(2*dx**2)\n",
    "\n",
    "    ## fuente (de manera vectorial)\n",
    "    def m(u):\n",
    "        i=(u - u**3)\n",
    "        return np.multiply(dt, np.multiply(mu,i))\n",
    "    \n",
    "    ## Condicion Inicial\n",
    "    U = np.array([0.005 * math.sin((315/10)*x) + 0.005*math.sin(315*x) for x in range(0,N)])\n",
    "    \n",
    "    \n",
    "    ## Matrices del problema\n",
    "    A = np.diagflat([-sigma/2 for i in range(N-1)], 1) +\\\n",
    "        np.diagflat([1 + sigma]+[1 + 2*sigma for i in range(N-2)] + [1 + sigma])+\\\n",
    "        np.diagflat([-sigma/2 for i in range(N-1)], -1)\n",
    "\n",
    "    B = np.diagflat([sigma/2 for i in range(N-1)], 1) +\\\n",
    "        np.diagflat([1 - sigma]+[(1 - sigma) for i in range(N-2)] + [1 - sigma])+\\\n",
    "        np.diagflat([sigma/2 for i in range(N-1)], -1)\n",
    "    \n",
    "    # Resolucion\n",
    "    ## Inicialización\n",
    "    U_sol = []\n",
    "    U_sol.append(U)\n",
    "\n",
    "    ## Tolerancia evolucion en m(x,t)\n",
    "    tol = 10**(-7)\n",
    "\n",
    "    # Primer paso\n",
    "    U_n = np.linalg.solve(A, np.matmul(B,U) + m(U))\n",
    "\n",
    "    ## Condicones de Dirchlet\n",
    "    U_n[0] = 0\n",
    "    U_n[-1] = 0\n",
    "\n",
    "    ## Actualizamos\n",
    "    U = U_n\n",
    "\n",
    "    ##Guardamos para poder graficar\n",
    "    U_sol.append(U)\n",
    "\n",
    "    for i in range(0, 2500):\n",
    "        U_n = np.linalg.solve(A, np.matmul(B,U)+ m(U))\n",
    "    \n",
    "        ## Condicones de Dirchlet\n",
    "        U_n[0] = 0\n",
    "        U_n[-1] = 0\n",
    "    \n",
    "        ## Actualizamos\n",
    "        U = U_n\n",
    "    \n",
    "        ##Condición de evolucion para m\n",
    "        if abs(U[-2] - U[-3])< tol and abs(U_n[-2] - U_n[-3])< tol:\n",
    "            U_sol.append(U)\n",
    "            break\n",
    "        \n",
    "        ##Guardamos para poder graficar\n",
    "        U_sol.append(U)\n",
    "    \n",
    "    # Se grafica y ajusta\n",
    "    U_sol = np.array(U_sol)\n",
    "\n",
    "    fig, ax = plt.subplots()\n",
    "    plt.xlabel('x') \n",
    "    plt.ylabel('t')\n",
    "\n",
    "    \n",
    "    t_grid = np.array([n*dt/10.5 for n in range(len(U_sol))])\n",
    "    \n",
    "    heatmap = ax.pcolor(X, t_grid, U_sol * -1 * 2.8)\n",
    "    colorbar = plt.colorbar(heatmap)\n",
    "    plt.clf()"
   ]
  },
  {
   "cell_type": "code",
   "execution_count": null,
   "metadata": {},
   "outputs": [],
   "source": [
    "deltas_X = [1, 0.1, 0.01, 0.001, 0.0001]\n",
    "deltas_T = [1, 0.1, 0.01, 0.001, 0.0001]\n",
    "\n",
    "for dx in deltas_X:\n",
    "    for dt in deltas_T:\n",
    "        print(\"Se utiliza dx = \", dx,\"y dt = \", dt)\n",
    "        Crank_Nicolson_diffusion(dx ,dt)"
   ]
  }
 ],
 "metadata": {
  "kernelspec": {
   "display_name": "Python 3",
   "language": "python",
   "name": "python3"
  },
  "language_info": {
   "codemirror_mode": {
    "name": "ipython",
    "version": 3
   },
   "file_extension": ".py",
   "mimetype": "text/x-python",
   "name": "python",
   "nbconvert_exporter": "python",
   "pygments_lexer": "ipython3",
   "version": "3.7.3"
  }
 },
 "nbformat": 4,
 "nbformat_minor": 2
}
