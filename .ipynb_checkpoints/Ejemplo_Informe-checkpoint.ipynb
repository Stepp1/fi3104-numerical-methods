{
 "cells": [
  {
   "cell_type": "markdown",
   "metadata": {},
   "source": [
    "#### Métodos Numéricos para la Ciencia e Ingeniería\n",
    "# Tarea X\n",
    "#### Víctor Navarro Aránguiz\n",
    "##### 8 de Abril, 2019"
   ]
  },
  {
   "cell_type": "markdown",
   "metadata": {},
   "source": [
    "## Pregunta 1\n",
    "\n",
    "### Introducción\n",
    "\n",
    "Se busca realizar una regresión lineal simple sobre datos de (inserte de que trata los datos y porqué se busca hacer la regresión). En una regresión lineal se busca explicar la relación que existe entre una variable dependiente $Y$ y un conjunto de variables independientes $X_1,\\ldots,X_n$, dicha relación vendría dada por:\n",
    "\n",
    "$$Y = \\sum_k^n\\beta_k X_k + \\epsilon$$\n",
    "\n",
    "donde $\\epsilon$ corresponde a una perturbación aleatoria.\n",
    "\n",
    "En este caso se estudiará la regresión lineal simple la cual corresponde a $Y = \\beta_0 + \\beta_1 X_i + \\epsilon$. Se busca entonces una recta de la forma:\n",
    "$$\\hat{y_i} = a + bx_i \\quad, \\quad i=\\{1,\\ldots,n\\}$$\n",
    "\n",
    "\n",
    "Básicamente consiste en introducir el problema que se quiere resolver, junto a todas las condiciones y/o parámetros que se presenten. La idea es que quien lea el informe sea capaz de reproducir los resultados leyendo el informe. NO es necesario que sea extenso, es mejor que la explicación sea corta y precisa."
   ]
  },
  {
   "cell_type": "code",
   "execution_count": 1,
   "metadata": {},
   "outputs": [
    {
     "data": {
      "text/plain": [
       "<Figure size 1000x1000 with 1 Axes>"
      ]
     },
     "metadata": {},
     "output_type": "display_data"
    }
   ],
   "source": [
    "# Se dan a conocer los datos como forma introductoria\n",
    "import numpy as np\n",
    "from scipy import stats # para hacer la regresión lineal\n",
    "import matplotlib.pyplot as plt\n",
    "\n",
    "np.random.seed(6) # Semilla para replicar los datos: cada vez que se cargue\n",
    "                  # siempre serán los mismos resultados\n",
    "n=100 # cantidad de puntos\n",
    "ancho_err = 100 # escalamiento al error para y\n",
    "x = np.linspace(0,100,n) #  n puntos entre 0 y 100\n",
    "\n",
    "def f(x,a,b): # definición de la recta\n",
    "    return a+b*x\n",
    "\n",
    "y_rand = np.random.rand(n)*ancho_err # aleatoriedad sobre y\n",
    "y = f(x,2,4) + y_rand # recta normal + aleatoriedad\n",
    "plt.figure(figsize=[10,10])\n",
    "plt.plot(x,y,'.') # se plotea x,y con puntos ('.')\n",
    "plt.title('Función lineal con ruido', size=16)\n",
    "plt.xlabel('x', size=16)\n",
    "plt.ylabel('y', size=16)\n",
    "plt.show()"
   ]
  },
  {
   "cell_type": "markdown",
   "metadata": {},
   "source": [
    "### Procedimiento\n",
    "¿Cómo resolver el problema planteado?. Uno de los métodos para encontrar $a$ y $b$ consiste en los *mínimos cuadrados* ... (explicar lo que resta), la expresión a minimizar es:\n",
    "\n",
    "$${\\sum}_{i=1}^n (y_i-\\hat{y_i})^2$$\n",
    "$$\\vdots$$\n",
    "\n",
    "...Lo mismo que antes, explicaciones claras y cortas. Explicar qué se hizo y qué parametros se utilizaron en caso de ser necesario."
   ]
  },
  {
   "cell_type": "markdown",
   "metadata": {},
   "source": [
    "## Análisis y Resultados\n",
    "Utilizando el método $\\texttt{stats.linregress}$ del paquete $\\texttt{Scipy}$ se obtienen los siguientes valores para la pendiente $a$ y el intercepto $b$. Adicionalmente se calcula el valor de $R^2$ con el mismo método:"
   ]
  },
  {
   "cell_type": "code",
   "execution_count": 2,
   "metadata": {},
   "outputs": [
    {
     "name": "stdout",
     "output_type": "stream",
     "text": [
      "pendiente: 3.866981840845452\n",
      "intercepto: 61.53525619302252\n",
      "R^2: 0.9725181480416923\n"
     ]
    }
   ],
   "source": [
    "b, a, r_value, p_value, std_error = stats.linregress(x,y)\n",
    "print(\"pendiente:\",b)\n",
    "print(\"intercepto:\",a)\n",
    "print(\"R^2:\",r_value)\n"
   ]
  },
  {
   "cell_type": "markdown",
   "metadata": {},
   "source": [
    "Graficando el resultado sobre los datos se obtiene lo siguiente:"
   ]
  },
  {
   "cell_type": "code",
   "execution_count": 3,
   "metadata": {},
   "outputs": [
    {
     "data": {
      "image/png": "[encoded data removed]",
      "text/plain": [
       "<Figure size 720x720 with 1 Axes>"
      ]
     },
     "metadata": {},
     "output_type": "display_data"
    }
   ],
   "source": [
    "y_est = f(x,a,b)\n",
    "plt.figure(figsize=[10,10])\n",
    "plt.plot(x,y,'.')\n",
    "plt.plot(x,y_est,label=r'$y(x)=%.3f+%.3f x$' % (a,b))\n",
    "plt.title('Función lineal con ruido', size=16)\n",
    "plt.legend()\n",
    "plt.xlabel('x', size=16)\n",
    "plt.ylabel('y', size=16)\n",
    "plt.show()"
   ]
  },
  {
   "cell_type": "markdown",
   "metadata": {},
   "source": [
    "Podemos ver que en el gráfico... Son los resultados luego de aplicar el procedimiento sobre el problema junto a un análisis de estos mismos. Apoyarse siempre en figuras y/o tablas.\n",
    "\n",
    "Ejemplo de tabla en jupyter notebook:"
   ]
  },
  {
   "cell_type": "markdown",
   "metadata": {},
   "source": [
    "| $a$ | $b$ | $R^2$ |\n",
    "| --- | --- | --- |\n",
    "| 4 | 2.5 | 0.9999 |\n",
    "| 3.6 | 1 | 0.998 |\n",
    "| 3.8 | 61.5 | 0.97 |\n",
    "\n",
    "En https://www.tablesgenerator.com/markdown_tables hay un buen generador de tablas"
   ]
  },
  {
   "cell_type": "markdown",
   "metadata": {},
   "source": [
    "## Conclusiones\n",
    "\n",
    "¿Se llegaron a resultados consistentes?, ¿hubo problemas con algún método?, ¿qué tal fueron los algoritmos utilizados?, ¿se cumple la teoría?, etc...."
   ]
  }
 ],
 "metadata": {
  "kernelspec": {
   "display_name": "Python 3",
   "language": "python",
   "name": "python3"
  },
  "language_info": {
   "codemirror_mode": {
    "name": "ipython",
    "version": 3
   },
   "file_extension": ".py",
   "mimetype": "text/x-python",
   "name": "python",
   "nbconvert_exporter": "python",
   "pygments_lexer": "ipython3",
   "version": "3.7.3"
  }
 },
 "nbformat": 4,
 "nbformat_minor": 2
}
